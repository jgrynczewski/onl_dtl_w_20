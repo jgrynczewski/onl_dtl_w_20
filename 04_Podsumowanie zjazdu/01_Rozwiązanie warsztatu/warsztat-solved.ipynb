{
 "cells": [
  {
   "attachments": {},
   "cell_type": "markdown",
   "metadata": {},
   "source": [
    "# Opis\n",
    "Warsztat ma na celu utrwalenie wiadomości dotyczących API oraz pracy z nimi. \n",
    "\n",
    "Naszym zadaniem będzie pobranie danych o albumach oraz utworach dla wybranego artysty. Następnie dane te powinny zostać wyświetlone w formie raportu.\n",
    "\n",
    "Za pomocą funkcji `input` zapytamy użytkownika o nazwę zespołu, dla którego chce pobrać dane. W dalszej kolejności:\n",
    "1. pobierzemy dostępne dla podanego artysty albumy,\n",
    "1. dla pobranych albumów pobierzemy listę dostępnych piosenek,\n",
    "1. pobierzemy dane o tych piosenkach,\n",
    "1. stworzymy raport zawierający pobrane informacje (dokładna specyfikacja poniżej).\n",
    "\n",
    "W celu wykonania kroków 1-3 posłużymy się dedykowanym API, stworzonym na potrzeby tego zadania, którego dokumentacja jest dostępna tutaj: [klik](https://api-pad.coderslab.com/docs). API jest dostępne pod adresem: https://api-pad.coderslab.com/api, w celu autentykacji posłuż się tym kluczem: `Ft85HgGtY6Rt`.\n",
    "\n",
    "> To zadanie można wykonać w jednej, wielokrotnie zagnieżdzonej pętli, jednak odradzamy to podejście ze względu na jego czytelność. Postaraj się dla każdego podpunktu stworzyć dedykowaną funkcję by na końcu w prosty i czytelny sposób wygenerować żądany rezultat.\n",
    "\n",
    "### Uwaga\n",
    "\n",
    "> Pewne endpoiny, wymagają przekazania słownika w `body`, przeczytaj ten [wątek](https://stackoverflow.com/questions/9733638/how-to-post-json-data-with-python-requests), aby dowiedzieć się w jaki sposób przekazywać słownik do endpoint'a.\n",
    "\n",
    "## Dokumentacja API\n",
    "Dokumentacja API jest stworzona przy użyciu [swagger](https://swagger.io/), przed rozpoczęciem kodowania, wspólnie (razem z wykładowcą) omówimy poszczególne jego elementy takie jak: endpointy, metody, autentykacja itp.\n",
    "\n",
    "Na stronie dokumentacji znajdziesz również podstawowe informacje jak należy się nią posługiwać.\n",
    "\n",
    "## Raport\n",
    "Dla podanego artysty powinniśmy otrzymać raport, który wyświeli nam informacje o jego albumach oraz piosenkach, które na nim się znajdują. Powinien być on stworzony w formie katalogu. Przykładowo, jeśli wyszukiwaliśmy informacji dla `metallica`, raport powinien wyglądać następująco:\n",
    "```\n",
    "Artysta: metallica\n",
    "|___ Album: Master Of Puppets\n",
    "    |___ Tracklista:\n",
    "          1. battery (remastered): Odtworzeń: 393621 | Słuchaczy: 62346 | Czas trwania: 0 | Tematyka: sadnes\n",
    "          .... \n",
    "```\n",
    "Wystarczy, że taki raport wyświetlimy na końcu działania naszego skryptu.\n",
    "\n",
    "## Raport w formie pliku `csv` (opcjonalnie)\n",
    "Na podstawie otrzymanych danych chcemy dodatkowo stworzyć oraz zapisać plik `csv`, o następujących wymaganiach:\n",
    "- kodowanie `UTF-8`,\n",
    "- separator `|`,\n",
    "- nazwa pliku wynikowego: `{artysta}.csv`\n",
    "- nagłówek pliku: `\"artist\", \"album\", \"track\", \"listeners\", \"likes\", \"duration\", \"topic\"`\n",
    "\n",
    "## Pobranie całej dostępnej bazy (opcjonalne)\n",
    "W materiałach dostępny jest plik `artists.csv`, którego zawartością jest lista artystów dostępna w API. Zmodyfikuj stworzony skrypt tak, wczytał ten plik, a następnie dla każdego artysty pobrał dostępne dla niego dane i stworzył dedykowany plik `csv`.\n",
    "\n",
    "Rozwiązanie to powinno bazować na tym, które uzyskasz przy pracy z pojedyńczym artystą.\n",
    "\n",
    "## Wskazówka\n",
    "\n",
    "Przy generowaniu raportu, który ma wyświelić się w notatniku możesz posłużyć się następującym szablonem dla utworu:\n",
    "```python\n",
    "msg_template = (\"{nb}. {track_name}: \" \n",
    "                \"Odtworzeń: {playcount} | \"\n",
    "                \"Słuchaczy: {listeners} | \"\n",
    "                \"Czas trwania: {duration} | \"\n",
    "                \"Tematyka: {topic}\"\n",
    "                )\n",
    "```\n",
    "Który możesz uzupełnić używając metody `msg_template.format(...)`\n"
   ]
  },
  {
   "cell_type": "markdown",
   "metadata": {},
   "source": [
    "# Rozwiązanie\n",
    "\n",
    "> W tym miejscu podkreślamy, że każde rozwiązanie, które spełnia warunki zadania jest poprawne, to prezentowane tutaj jest tylko przykładowe. Ma ono również na celu pokazania sposobu budowania aplikacji pythonowych opartych bezpośrednio na połączeniach z zewnętrznymi serwisami.\n",
    "\n",
    "Do rozwiązania podejdziemy następująco: \n",
    "1. Użyjemy jednego konkretnego przykładu i na tej podstawie stworzymy _szkic_ rozwiązania,\n",
    "1. Na podstawie poprzedniego punktu stworzymy docelowe rozwiązanie."
   ]
  },
  {
   "attachments": {},
   "cell_type": "markdown",
   "metadata": {},
   "source": [
    "## Konfiguracja części wspólnych rozwiązania\n",
    "\n",
    "Niezależnie od etapu, potrzebujemy przygtować sobie następujące elementy:\n",
    "- zaimportować wymagane biblioteki,\n",
    "- przygotować sobie stałe `constants`, takie jak adres API, klucz itp\n",
    "\n",
    "### Import bibliotek\n",
    "Ponieważ będziemy wysyłać zapytania do API, na pewno potrzebujemy `requests`, dodatkowo na stronie z dokumentacją widnieje informacja, że jesteśmy ograniczeni aby wykonać 1000 żądań/min, do tego przyda nam się metoda `sleep` z biblioteki `time`:"
   ]
  },
  {
   "cell_type": "code",
   "execution_count": 1,
   "metadata": {},
   "outputs": [],
   "source": [
    "import requests\n",
    "from time import sleep"
   ]
  },
  {
   "cell_type": "markdown",
   "metadata": {},
   "source": [
    "### Stałe\n",
    "\n",
    "W dalszej kolejności zdefiniujemy stałe:\n",
    "- `API_KEY`- klucz dostępny w treści zadania,\n",
    "- `API_URL`- adres naszego api,\n",
    "- `SLEEP` - będzie to wartość ile nasz kod musi odczekać po wykonaniu żądania w sekundach. Dla bezpieczeństwa ustalimy w tym notatniku, że maksymalnie w ciągu minuty będziemy odpytywać API 950 razy.\n",
    "\n",
    "Dokumentacja informuje, że autentykacja odbywa poprzez podanie parametru `authorization`. To sobie również zapiszemy i będziemy reużywali w odpowiednich momentach (stała `AUTH`).\n"
   ]
  },
  {
   "cell_type": "code",
   "execution_count": 2,
   "metadata": {},
   "outputs": [],
   "source": [
    "API_KEY = \"Ft85HgGtY6Rt\"\n",
    "API_URL = \"https://api-pad.coderslab.com/api\"\n",
    "\n",
    "AUTH = {'authorization': API_KEY}\n",
    "\n",
    "SLEEP = 60/950  # czas pomiędzy kolejnymi żądaniami w sekundach"
   ]
  },
  {
   "cell_type": "markdown",
   "metadata": {},
   "source": [
    "## Szkic rozwiązania\n",
    "\n",
    "Ta część rozwiązania skupia się na stworzeniu kodu, który będzie stanowił bazę do dalszej pracy. Będziemy wykonywać zapytania na bazie konkretnych przykładów. Ćwiczenia, które wykonamy w tym celu to:\n",
    "1. Na podstawie podanej nazwy artysty pobierzemy jego ID,\n",
    "1. Pobierzemy listę dostępnych albumów, z niego wybierzemy jeden,\n",
    "1. Dla wybranego albumy pobierzemy listę utworów, tutaj ponownie wybierzemy jeden przykład,\n",
    "1. Finalnie pobierzemy dane dla wybranego utworu.\n",
    "Da to nam rozeznanie w sposobie działania API oraz ułatwi kolejne kroki.\n",
    "\n",
    "W treści zadania widnieje informacja, że dane od użytkownika powinniśmy pobrać za pomocą funkcji `input`, w tym momencie ten element pominiemy - zdefiniujemy szukanego artystę. Wartość tą będziemy przechowywać w zmiennej `artist`."
   ]
  },
  {
   "cell_type": "code",
   "execution_count": 3,
   "metadata": {},
   "outputs": [],
   "source": [
    "artist = 'metallica'"
   ]
  },
  {
   "cell_type": "markdown",
   "metadata": {},
   "source": [
    "### Pobranie dostępnych albumów\n",
    "\n",
    "Zgodnie z wymaganiami zadanie mamy zacząć od pobrania albumów dostępnych dla danego artysty. W dokumentacji możemy odnaleźć, że takie dane możemy pobrać z endpointa `artist/albums`.\n",
    "\n",
    "Jednak jest tutaj pewien problem, ponieważ zapytania do endpointa `arists/albums` wymagają podania `artist_id`, którego w tym momencie nie posiadamy - póki co podaliśmy tylko nazwę zespołu.\n",
    "\n",
    "Aby otrzymać id artysty (`artist_id`) musimy użyć innego endpointa: `artist/find`, który wymaga w adresie podania jego nazwy tj. `artists/find/metallica` (trzymając się naszego wyjściowego artysty).\n",
    "\n",
    "Sprawdźmy - na początek wyślemy żądanie do API: "
   ]
  },
  {
   "cell_type": "code",
   "execution_count": 4,
   "metadata": {},
   "outputs": [
    {
     "name": "stdout",
     "output_type": "stream",
     "text": [
      "Status żądania: 200\n",
      "Odpowiedź: {\"artist_id\":4588}\n"
     ]
    }
   ],
   "source": [
    "r = requests.get(\n",
    "    f\"{API_URL}/artist/find/{artist}\", \n",
    "    params=AUTH,\n",
    ")\n",
    "\n",
    "print(f\"Status żądania: {r.status_code}\")\n",
    "print(f\"Odpowiedź: {r.text}\")"
   ]
  },
  {
   "cell_type": "markdown",
   "metadata": {},
   "source": [
    "Otrzymaliśmy poprawną odpowiedź oraz informację zwrotną w postaci słownika, aby otrzymać szukane `artist_id`, musimy użyć metody `json()` a następny wyciągnąć wartość dla klucza `artist_id`:"
   ]
  },
  {
   "cell_type": "code",
   "execution_count": 5,
   "metadata": {},
   "outputs": [],
   "source": [
    "artist_id = r.json()['artist_id']"
   ]
  },
  {
   "cell_type": "markdown",
   "metadata": {},
   "source": [
    "Dla przykładu jeszcze wyślemy zapytanie o ID dla nieistniejącego artysty - powiedzmy, `coderslaber`. Za dokumentacją możemy powiedzieć, że oczekujemy, że api zwróci nam `status_code==200`:"
   ]
  },
  {
   "cell_type": "code",
   "execution_count": 6,
   "metadata": {},
   "outputs": [
    {
     "name": "stdout",
     "output_type": "stream",
     "text": [
      "Status żądania: 204\n"
     ]
    }
   ],
   "source": [
    "r = requests.get(\n",
    "    f\"{API_URL}/artist/find/coderslaber\", \n",
    "    params=AUTH,\n",
    ")\n",
    "\n",
    "print(f\"Status żądania: {r.status_code}\")"
   ]
  },
  {
   "cell_type": "markdown",
   "metadata": {},
   "source": [
    "Wszystko się zgadza, możemy przejść do wyjściowego zadania, czyli pobrania albumów. Po zapoznaniu się z dokumentacją stwierdzimy, że tutaj `artist_id` jest przekazywane jako adres. Wystarczy zatem drobna modyfikacja poprzedniego kodu:"
   ]
  },
  {
   "cell_type": "code",
   "execution_count": 7,
   "metadata": {},
   "outputs": [
    {
     "name": "stdout",
     "output_type": "stream",
     "text": [
      "Status żądania: 200\n",
      "Odpowiedź: [{\"artist_name\":\"metallica\",\"album_name\":\"Master of Puppets (Remastered Deluxe Box Set)\",\"album_id\":14991,\"artist_id\":4588},{\"artist_name\":\"metallica\",\"album_name\":\"Metallica\",\"album_id\":15193,\"artist_id\":4588},{\"artist_name\":\"metallica\",\"album_name\":\"Greatest Hits\",\"album_id\":15196,\"artist_id\":4588},{\"artist_name\":\"metallica\",\"album_name\":\"Load\",\"album_id\":15355,\"artist_id\":4588},{\"artist_name\":\"metallica\",\"album_name\":\"17 Years In The Life Of Metallica\",\"album_id\":15357,\"artist_id\":4588},{\"artist_name\":\"metallica\",\"album_name\":\"Acoustic Metal\",\"album_id\":15384,\"artist_id\":4588},{\"artist_name\":\"metallica\",\"album_name\":\"Reload\",\"album_id\":15397,\"artist_id\":4588},{\"artist_name\":\"metallica\",\"album_name\":\"Garage, Inc.\",\"album_id\":15414,\"artist_id\":4588},{\"artist_name\":\"metallica\",\"album_name\":\"Master of Puppets\",\"album_id\":15454,\"artist_id\":4588},{\"artist_name\":\"metallica\",\"album_name\":\"...and Justice for All\",\"album_id\":15466,\"artist_id\":4588},{\"artist_name\":\"metallica\",\"album_name\":\"Ride the Lightning\",\"album_id\":15477,\"artist_id\":4588},{\"artist_name\":\"metallica\",\"album_name\":\"I Disappear\",\"album_id\":15527,\"artist_id\":4588},{\"artist_name\":\"metallica\",\"album_name\":\"Death Magnetic\",\"album_id\":15785,\"artist_id\":4588},{\"artist_name\":\"metallica\",\"album_name\":\"Hardwired…To Self-Destruct\",\"album_id\":16206,\"artist_id\":4588}]\n"
     ]
    }
   ],
   "source": [
    "r = requests.get(\n",
    "    f\"{API_URL}/artist/albums/{artist_id}\",\n",
    "    params=AUTH,\n",
    ")\n",
    "\n",
    "print(f\"Status żądania: {r.status_code}\")\n",
    "print(f\"Odpowiedź: {r.text}\")"
   ]
  },
  {
   "cell_type": "markdown",
   "metadata": {},
   "source": [
    "Na podstawie powyższych wyników, widzimy, że otrzymaliśmy ponownie listę albumów zawierającą id oraz powiązaną nazwę jest ona w formacie `json`, więc analogicznie jak poprzednio:"
   ]
  },
  {
   "cell_type": "code",
   "execution_count": 8,
   "metadata": {},
   "outputs": [],
   "source": [
    "albums = r.json()"
   ]
  },
  {
   "cell_type": "markdown",
   "metadata": {},
   "source": [
    "Wyświetlmy dodatkowo otrzymane dane:"
   ]
  },
  {
   "cell_type": "code",
   "execution_count": 9,
   "metadata": {},
   "outputs": [
    {
     "name": "stdout",
     "output_type": "stream",
     "text": [
      "{'artist_name': 'metallica', 'album_name': 'Master of Puppets (Remastered Deluxe Box Set)', 'album_id': 14991, 'artist_id': 4588}\n",
      "{'artist_name': 'metallica', 'album_name': 'Metallica', 'album_id': 15193, 'artist_id': 4588}\n",
      "{'artist_name': 'metallica', 'album_name': 'Greatest Hits', 'album_id': 15196, 'artist_id': 4588}\n",
      "{'artist_name': 'metallica', 'album_name': 'Load', 'album_id': 15355, 'artist_id': 4588}\n",
      "{'artist_name': 'metallica', 'album_name': '17 Years In The Life Of Metallica', 'album_id': 15357, 'artist_id': 4588}\n",
      "{'artist_name': 'metallica', 'album_name': 'Acoustic Metal', 'album_id': 15384, 'artist_id': 4588}\n",
      "{'artist_name': 'metallica', 'album_name': 'Reload', 'album_id': 15397, 'artist_id': 4588}\n",
      "{'artist_name': 'metallica', 'album_name': 'Garage, Inc.', 'album_id': 15414, 'artist_id': 4588}\n",
      "{'artist_name': 'metallica', 'album_name': 'Master of Puppets', 'album_id': 15454, 'artist_id': 4588}\n",
      "{'artist_name': 'metallica', 'album_name': '...and Justice for All', 'album_id': 15466, 'artist_id': 4588}\n",
      "{'artist_name': 'metallica', 'album_name': 'Ride the Lightning', 'album_id': 15477, 'artist_id': 4588}\n",
      "{'artist_name': 'metallica', 'album_name': 'I Disappear', 'album_id': 15527, 'artist_id': 4588}\n",
      "{'artist_name': 'metallica', 'album_name': 'Death Magnetic', 'album_id': 15785, 'artist_id': 4588}\n",
      "{'artist_name': 'metallica', 'album_name': 'Hardwired…To Self-Destruct', 'album_id': 16206, 'artist_id': 4588}\n"
     ]
    }
   ],
   "source": [
    "for album in albums:\n",
    "    print(album)"
   ]
  },
  {
   "cell_type": "markdown",
   "metadata": {},
   "source": [
    "Co kończy zadanie 1."
   ]
  },
  {
   "cell_type": "markdown",
   "metadata": {},
   "source": [
    "## Pobranie listy utworów\n",
    "\n",
    "Ta część już jest o wiele prostsza. Ponieważ mamy już do dyspozycji `album_id`, wystarczy tylko w dokumentacji odszukać endpoint, który za to zadanie odpowiada- `/album/tracks`.\n",
    "\n",
    "Isotnym do zaznaczenia jest fakt, że tutaj dane przejazujemy w formie `body` co więcej muszą być one w formacie `json`. Po przeczywaniu wątku podanego we wskazówce: [click](https://stackoverflow.com/questions/9733638/how-to-post-json-data-with-python-requests), wiemy, że należy te informacje przekazać za pomocą parametru `json=...`.\n",
    "\n",
    "Ponieważ `albums` zawiera już kilka elementów, wyizolujmy sobie przykład i na jego podstawie opracujmy żądanie:"
   ]
  },
  {
   "cell_type": "code",
   "execution_count": 10,
   "metadata": {},
   "outputs": [
    {
     "name": "stdout",
     "output_type": "stream",
     "text": [
      "Dane albumu: {'artist_name': 'metallica', 'album_name': 'Master of Puppets (Remastered Deluxe Box Set)', 'album_id': 14991, 'artist_id': 4588}\n"
     ]
    }
   ],
   "source": [
    "album = albums[0] # izolacja pojedyńczego przypadku\n",
    "print(f\"Dane albumu: {album}\")"
   ]
  },
  {
   "cell_type": "code",
   "execution_count": 11,
   "metadata": {},
   "outputs": [
    {
     "name": "stdout",
     "output_type": "stream",
     "text": [
      "Status żądania: 200\n",
      "Odpowiedź: [74813]\n"
     ]
    }
   ],
   "source": [
    "album_id = album['album_id']\n",
    "r = requests.post(\n",
    "    f\"{API_URL}/album/tracks\",\n",
    "    params=AUTH,\n",
    "    json={'album_id': album_id},\n",
    ")\n",
    "\n",
    "print(f\"Status żądania: {r.status_code}\")\n",
    "print(f\"Odpowiedź: {r.text}\") # wyświetli nam ID utworów, które znajdują się na albumie - w tym przypadku jest to jednoelementowa lista"
   ]
  },
  {
   "cell_type": "markdown",
   "metadata": {},
   "source": [
    "W odpowiedzi otrzymaliśmy kolejną listę, tym razem z `id utworów`. Kończy to pracę z tą częścią zadania."
   ]
  },
  {
   "cell_type": "code",
   "execution_count": 12,
   "metadata": {},
   "outputs": [],
   "source": [
    "tracks = r.json()"
   ]
  },
  {
   "cell_type": "markdown",
   "metadata": {},
   "source": [
    "## Pobranie danych o utworze\n",
    "\n",
    "Mamy już wszystkie potrzebne informacje, aby pobrać dane dla wybranego utworu. W tym celu należy zapoznać się z dokumentacją endpointa `track/get`.\n",
    "\n",
    "W tym przypadku rozwiązanie jest analogiczne do pobierania danych o liście utworów- wystarczy, że zmienimy adres endpointa i dopowiednio przekażemy `track_id` w `body`.\n",
    "\n",
    "Jak wcześniej, wyizolujemy sobie jeden wybrany utwór i na jego przykładzie zbudujemy żądanie:"
   ]
  },
  {
   "cell_type": "code",
   "execution_count": 13,
   "metadata": {},
   "outputs": [
    {
     "name": "stdout",
     "output_type": "stream",
     "text": [
      "Id utworu: 74813\n"
     ]
    }
   ],
   "source": [
    "track_id = tracks[0]\n",
    "print(f\"Id utworu: {track_id}\")"
   ]
  },
  {
   "cell_type": "markdown",
   "metadata": {},
   "source": [
    "teraz żądanie:"
   ]
  },
  {
   "cell_type": "code",
   "execution_count": 14,
   "metadata": {},
   "outputs": [
    {
     "name": "stdout",
     "output_type": "stream",
     "text": [
      "Status żądania: 200\n",
      "Odpowiedź: {\"id\":74813,\"artist_name\":\"metallica\",\"track_name\":\"battery (remastered)\",\"lyrics\":\"lash action return reaction weak rip tear away hypnotize power crush cower battery stay smash boundaries lunacy stop battery pound aggression turn obsession kill battery kill family battery battery battery lyric commercial\",\"release_date\":\"1986\",\"len\":32,\"age\":0.48571428571428504,\"topic\":\"sadness\",\"album_name\":\"Master of Puppets (Remastered Deluxe Box Set)\",\"playcount\":393621,\"listeners\":62346,\"duration\":0,\"album_id\":14991,\"artist_id\":4588}\n"
     ]
    }
   ],
   "source": [
    "r = requests.post(\n",
    "    f\"{API_URL}/track/get\",\n",
    "    params=AUTH,\n",
    "    json={'track_id': track_id}\n",
    ")\n",
    "print(f\"Status żądania: {r.status_code}\")\n",
    "print(f\"Odpowiedź: {r.text}\")"
   ]
  },
  {
   "cell_type": "markdown",
   "metadata": {},
   "source": [
    "Otrzymujemy zatem ponownie słownik z danymi. Tym razem jednak otrzymujemy dane o utworze i nie musimy niczego dalej pobierać, znajdziemy tutaj informacje o:\n",
    "\n",
    "- nazwie utworu - `track_name`,\n",
    "- liczbie odtworzeń - `playcount`,\n",
    "- liczbie słuchaczy - `listeners`,\n",
    "- wieku utworzy - `age`,\n",
    "- czasie trwania - `duration`,\n",
    "- tematyce - `topic`.\n",
    "\n",
    "Co kończy tę część warsztatu."
   ]
  },
  {
   "cell_type": "markdown",
   "metadata": {},
   "source": [
    "### Stworzenie raportu\n",
    "\n",
    "W tym momencie pominiemy stworzenie raportu, ponieważ szkic dotyczył pojedyńczych przykładów dla żądań.\n",
    "\n",
    "## Podsumowanie\n",
    "\n",
    "W tej cześci pobraliśmy dane zgodnie z wymaganiami zadania. W każdym przypadku wybraliśmy sobie jeden przykład albumu/utworu, na podstawie których opracowaliśmy kształt poszczególnych żądań.\n",
    "\n",
    "Dalej skupimy się przede wszystkim na pełnym rozwiązaniu warsztatu oraz przygotowaniu procedur, które ułatwią wykonanie całego kodu."
   ]
  },
  {
   "cell_type": "markdown",
   "metadata": {},
   "source": [
    "# Docelowe rozwiązanie\n",
    "\n",
    "W tej części dopracujemy nasze rozwiązanie, kroki, które wcześniej wykonaliśmy opakujemy w postać funkcji, dzięki czemu finalna postać kodu będzie zgodna z dobrymi praktykami. Bazując na budowie API, stworzymy metody takie jak:\n",
    "- bazujące bezpośrednio na API:\n",
    "    - `get_artist_id`, która na podstawie nazwy artysty pobieże jego `id`,\n",
    "    - `get_artist_albums`, zwracająca albumy powiązane z danym artystą,\n",
    "    - `get_album_tracks` - pobierająca listę utworów z danego albumu,\n",
    "    - `get_track_data` - pobierająca dane utworu,\n",
    "- metody wyższego poziomu, łączące powyższe:\n",
    "    - `download_album_tracks` - wykorzystanie `get_album_tracks` oraz `get_track_data`, ze względu na strukturę zwracanych przez nie wyników,\n",
    "    - `download_artist_albums` - jako połączenie `get_artist_albums` oraz `download_album_tracks`.\n",
    "\n",
    "Istotną różnicą będzie to, że musimy w tym momencie obsłużyć obsługę wielu rekordów - przypomnijmy, że wcześniej posługiwaliśmy się pojedyńczymi rekordami. To obsłużymy używając pętli `for`, gdzie potrzebne."
   ]
  },
  {
   "cell_type": "markdown",
   "metadata": {},
   "source": [
    "## Uogólnienie szkicu\n",
    "\n",
    "W tej części zdefiniujemy wcześniej określone metody. Implementację zaczniemy od tych _niskopoziomowych_, czyli tych, które bazują na połączeniu z API, więc będziemy używać kodu, który został stworzony w trakcie tworzenia szkicu. Po wykonaniu tej części przejdziemy to metod _wyższego_ poziomu."
   ]
  },
  {
   "cell_type": "markdown",
   "metadata": {},
   "source": [
    "### `get_artist_id`\n",
    "\n",
    "Aby poprawnie zdefiniować metodę musimy upewnić się, że poprawnie obsłużymy `status_code`:\n",
    "- w przypadku `200` lub `204`, wystarczy, że zwrócimy wartość `artist_id`\n",
    "- innym przypadku zwrócimy informację o nieobsługiwanym `status_code`, przykładowo: `Unhandled status code: {status_code}`"
   ]
  },
  {
   "cell_type": "code",
   "execution_count": 15,
   "metadata": {},
   "outputs": [],
   "source": [
    "def get_artist_id(artist):\n",
    "    r = requests.get(\n",
    "        f\"{API_URL}/artist/find/{artist}\", \n",
    "        params=AUTH,\n",
    "    )\n",
    "    sleep(SLEEP) # czekamy ustaloną wartość czasu po wykonaniu żądania\n",
    "\n",
    "    if r.status_code in (200, 204):\n",
    "        result = r.json()['artist_id']\n",
    "        return result\n",
    "    print(f\"Unhandled status code: {r.status_code}\")"
   ]
  },
  {
   "cell_type": "markdown",
   "metadata": {},
   "source": [
    "### `get_artist_albums`\n",
    "Podobnie jak wcześniej potrzebujemy dodać obsługę `status_code`, zrobimy to analogicznie jak wcześniej. Istotną różnicą pomiędzy tym rozwiązaniem będzie obsłużenie wielu rekordów. Ze względu na późniejszą konieczność używania tych danych w różny sposób- czy to w innych API czy potem do raportu, w tym rozwiązaniu wynikiem metody będzie następująca struktura:\n",
    "```python\n",
    "{0: 'Album A',\n",
    " 1: 'Album B',\n",
    " 2: 'Album C'\n",
    "}\n",
    "```\n",
    "Czyli będzie to po prostu słownik, którego kluczem będzie `id` albumu a wartością jego nazwa. Musimy zatem dodać następujące kroki:\n",
    "- stworzyć słownik, który będzie przechowywał mapowanie klucza albumu na jego nazwę - `albums`,\n",
    "- z wyniku żądania wyciągnąć `album_id` oraz `album_name` dla każdego albumu,\n",
    "- tak uzyskane elementy dodać do zmiennej `albums`.\n",
    "\n",
    "> Dlaczego chcemy otrzymaną tablicę przekształcić w słownik? W ten sposó otrzumujemy prosty sposób na odwołwanie się do poszczególnego albumu i pobrania potrzebnej informacji. Gdybyśmy zdecydowali się na zwrócenie wartości wprost z API czyli w formie tablicy z zagnieżdżonymi słownikami wymagałoby to w dalszych krokach filtrowania, co mogłoby skomplikować dodatkowo rozwiązanie.\n"
   ]
  },
  {
   "cell_type": "code",
   "execution_count": 16,
   "metadata": {},
   "outputs": [],
   "source": [
    "def get_artist_albums(artist_id):\n",
    "    r = requests.get(\n",
    "        f\"{API_URL}/artist/albums/{artist_id}\",\n",
    "        params=AUTH,\n",
    "    )\n",
    "    sleep(SLEEP) # czekamy ustaloną wartość czasu po wykonaniu żądania\n",
    "\n",
    "    if r.status_code not in (200, 204):\n",
    "        print(f\"Unhandled status code: {r.status_code}\")\n",
    "        return []\n",
    "\n",
    "    records = r.json()\n",
    "\n",
    "    albums = {}  # definiujemy pusty słownik, jako kontener na dane wynikowe\n",
    "    for record in records:  # iterujemy po wszystkich dostępnych albumach\n",
    "        album_id = record['album_id']\n",
    "        album_name = record['album_name']\n",
    "        albums[album_id] = album_name  # dodajemy nowy album do zbioru\n",
    "    return albums"
   ]
  },
  {
   "cell_type": "markdown",
   "metadata": {},
   "source": [
    "### `get_album_tracks`\n",
    "\n",
    "Ta funkcja ma na celu pobranie utworów dla danego albumu. W tej części nie ma potrzeby abyśmy dodatkowo modyfikowali dane wynikowe- mogą zostać zwrócone prosto z API."
   ]
  },
  {
   "cell_type": "code",
   "execution_count": 17,
   "metadata": {},
   "outputs": [],
   "source": [
    "def get_album_tracks(album_id):\n",
    "    r = requests.post(\n",
    "        f\"{API_URL}/album/tracks\",\n",
    "        params=AUTH,\n",
    "        json={'album_id': album_id},\n",
    "    )\n",
    "    sleep(SLEEP)\n",
    "\n",
    "    if r.status_code not in (200, 204):\n",
    "        print(f\"Unhandled status code: {r.status_code}\")\n",
    "        return []\n",
    "\n",
    "    tracks_id = r.json()\n",
    "    return tracks_id"
   ]
  },
  {
   "cell_type": "markdown",
   "metadata": {},
   "source": [
    "### `get_track_data`\n",
    "\n",
    "Podobnie jak w poprzednim podpunkcie, te funkcja będzie tylko nakładką na samo żądanie:"
   ]
  },
  {
   "cell_type": "code",
   "execution_count": 18,
   "metadata": {},
   "outputs": [],
   "source": [
    "def get_track_data(track_id):\n",
    "    r = requests.post(\n",
    "        f\"{API_URL}/track/get\",\n",
    "        params=AUTH,\n",
    "        json={'track_id': track_id}\n",
    "    )\n",
    "    sleep(SLEEP)\n",
    "\n",
    "    if r.status_code not in (200, 204):\n",
    "        print(f\"Unhandled status code: {r.status_code}\")\n",
    "        return []\n",
    "        \n",
    "    result = r.json()\n",
    "    return result    "
   ]
  },
  {
   "cell_type": "markdown",
   "metadata": {},
   "source": [
    "### `download_album_tracks`\n",
    "\n",
    "Zanim przejdziemy do zdefiniowania funkcji `download_album_tracks`, podsumujmy co mamy do tej pory:\n",
    "1. pobranie danych o artyście,\n",
    "1. pobranie dostępnych albumów artysty,\n",
    "1. pobranie listy dostępnych utwórów na albumie,\n",
    "1. pobranie danych pojedyńczego utworu.\n",
    "\n",
    "Brakującym ogniwem jest tutaj połączenie kroków 3. i 4. w taki sposób, aby pobrać dane wszystkich utworów dostępnych na albumie - i za to właśnie będzie odpowiadała funkcja `download_album_tracks`."
   ]
  },
  {
   "cell_type": "code",
   "execution_count": 19,
   "metadata": {},
   "outputs": [],
   "source": [
    "def download_album_tracks(album_id):\n",
    "    tracks_id = get_album_tracks(album_id)\n",
    "    tracks = []\n",
    "\n",
    "    for track_id in tracks_id:\n",
    "        data = get_track_data(track_id)\n",
    "        tracks.append(data)\n",
    "    return tracks"
   ]
  },
  {
   "cell_type": "markdown",
   "metadata": {},
   "source": [
    "### `download_artist_albums`\n",
    "\n",
    "Jak już wcześniej wspomnieliśmy, zadaniem tej funkcji będzie po prostu pobranie danych albumów podanego artysty. Musi ona zatem implementować następującą logikę:\n",
    "- jako parametr przyjomować `artist_id`,\n",
    "- pobrać albumy, które są dla niego dostępne - tutaj wykorzystamy `get_artist_albums`,\n",
    "- pobrać dane o znajdujące się na tym albumie - tutaj możemy posłużyć się już wcześniej zdefiniowaną `download_album_tracks`.\n",
    "\n",
    "Co warto w tym miejscu zaznaczyć, to fakt, że z `get_artist_albums`, otrzymamy słownik. Będziemy chcieli utrzymać tą konwencję i proponujemy, aby ta metoda zwracała dwie zmienne:\n",
    "- `albums`- czyli wynik `get_artist_albums`, ponieważ zawiera mapowanie id do nazwy, co będzie potrzebne do wygenerowania raportu,\n",
    "- `albums_tracks` - czyli listę utworów przypisaną do danego albumu, stukturą będzie podobne do struktury z metody `get_artist_albums`:\n",
    "```python\n",
    "{1: [{dane utworu}]}\n",
    "```\n",
    "z tą różnicą, że jako wartości przetrzymywana będzie lista z danymi o utworze."
   ]
  },
  {
   "cell_type": "code",
   "execution_count": 20,
   "metadata": {},
   "outputs": [],
   "source": [
    "def download_artist_albums(artist_id):\n",
    "    albums = get_artist_albums(artist_id)\n",
    "\n",
    "    albums_tracks = {}\n",
    "    for id, album in enumerate(albums, 1):\n",
    "        print(f\"Pobieram {id} z {len(albums)}\")\n",
    "        tracks = download_album_tracks(album)\n",
    "        albums_tracks[album] = tracks\n",
    "    return albums, albums_tracks"
   ]
  },
  {
   "cell_type": "markdown",
   "metadata": {},
   "source": [
    "## Pobranie danych dla wybranego zespołu\n",
    "\n",
    "W tym miejscu stworzymy miejscie, w którym wykonamy całość stworzonego kodu. Dodamy również brakujący do tej pory element, czyli pobranie interesującej nas nazwy zespołu przy pomocy `input`."
   ]
  },
  {
   "cell_type": "code",
   "execution_count": 21,
   "metadata": {},
   "outputs": [
    {
     "name": "stdout",
     "output_type": "stream",
     "text": [
      "Podano zespół: madonna\n"
     ]
    }
   ],
   "source": [
    "artist = input(\"Podaj nazwę zespołu\")\n",
    "print(f\"Podano zespół: {artist}\")"
   ]
  },
  {
   "cell_type": "code",
   "execution_count": 22,
   "metadata": {},
   "outputs": [
    {
     "name": "stdout",
     "output_type": "stream",
     "text": [
      "Pobieram 1 z 10\n",
      "Pobieram 2 z 10\n",
      "Pobieram 3 z 10\n",
      "Pobieram 4 z 10\n",
      "Pobieram 5 z 10\n",
      "Pobieram 6 z 10\n",
      "Pobieram 7 z 10\n",
      "Pobieram 8 z 10\n",
      "Pobieram 9 z 10\n",
      "Pobieram 10 z 10\n"
     ]
    }
   ],
   "source": [
    "artist_id = get_artist_id(artist)\n",
    "albums, tracks = download_artist_albums(artist_id)"
   ]
  },
  {
   "cell_type": "markdown",
   "metadata": {},
   "source": [
    "### Podglądnięcie danych"
   ]
  },
  {
   "cell_type": "code",
   "execution_count": 23,
   "metadata": {},
   "outputs": [
    {
     "data": {
      "text/plain": [
       "{1476: 'Madonna',\n",
       " 1830: 'Like a Virgin',\n",
       " 1838: 'Frozen',\n",
       " 1913: 'True Blue',\n",
       " 2138: 'Like a Prayer',\n",
       " 2209: 'The Immaculate Collection',\n",
       " 2355: 'The Girlie Show: Live Down Under',\n",
       " 2532: 'Bedtime Stories',\n",
       " 2773: 'Ray of Light',\n",
       " 3287: 'The Confessions Tour'}"
      ]
     },
     "execution_count": 23,
     "metadata": {},
     "output_type": "execute_result"
    }
   ],
   "source": [
    "albums"
   ]
  },
  {
   "cell_type": "code",
   "execution_count": 24,
   "metadata": {},
   "outputs": [
    {
     "data": {
      "text/plain": [
       "{1476: [{'id': 7386,\n",
       "   'artist_name': 'madonna',\n",
       "   'track_name': 'holiday',\n",
       "   'lyrics': 'holiday celebrate holiday celebrate take holiday take time celebrate life nice everybody spread word gonna celebration world nation time good time forget time yeah come release pressure need holiday take holiday take time celebrate life nice turn world bring days trouble time celebrate shine come things better need holiday take holiday take time celebrate life nice holiday celebrate holiday celebrate take holiday take time celebrate life nice holiday celebrate holiday celebrate come nation',\n",
       "   'release_date': '1979',\n",
       "   'len': 73,\n",
       "   'age': 0.5857142857142851,\n",
       "   'topic': 'world/life',\n",
       "   'album_name': 'Madonna',\n",
       "   'playcount': 2310260,\n",
       "   'listeners': 444332,\n",
       "   'duration': 241000,\n",
       "   'album_id': 1476,\n",
       "   'artist_id': 427},\n",
       "  {'id': 8689,\n",
       "   'artist_name': 'madonna',\n",
       "   'track_name': 'lucky star',\n",
       "   'lyrics': 'cause shine think start glow need light baby know starlight starbright tonight starlight starbright right starlight starbright tonight starlight starbright yeah cause darkness lose guide turn starlight starbright tonight starlight starbright right starlight starbright tonight starlight starbright yeah shine heavenly body tonight cause know gonna right shine heavenly body tonight cause know gonna right luckiest starlight starbright tonight starlight starbright right starlight starbright tonight starlight starbright yeah shine heavenly body tonight cause know gonna right shine heavenly body tonight cause know gonna right luckiest luckiest starlight starbright tonight starlight starbright right starlight starbright tonight starlight starbright starlight starbright right baby stay tonight starlight starbright starlight starbright starlight starbright starlight starbright starlight starbright baby starlight starbright stay tonight baby baby stay tonight',\n",
       "   'release_date': '1983',\n",
       "   'len': 121,\n",
       "   'age': 0.528571428571428,\n",
       "   'topic': 'night/time',\n",
       "   'album_name': 'Madonna',\n",
       "   'playcount': 1551916,\n",
       "   'listeners': 296486,\n",
       "   'duration': 215000,\n",
       "   'album_id': 1476,\n",
       "   'artist_id': 427}],\n",
       " 1830: [{'id': 9040,\n",
       "   'artist_name': 'madonna',\n",
       "   'track_name': 'material girl',\n",
       "   'lyrics': 'boys kiss boys think okay proper credit walk away plead light right cause cold hard cash mister right cause live material world material girl know live material world material girl boys romance boys slow dance right raise boys boys play boys save pennies rainy cause live material world material girl know live material world material girl live material world material girl know live material world material girl live material world terial live material world live material world terial live material world boys come boys right experience cause everybody live material world material girl know live material world material girl live material world material girl know live material world material girl material material material material world live material world terial live material world live material world terial live material world live material world terial live material world live material world terial live material world',\n",
       "   'release_date': '1984',\n",
       "   'len': 143,\n",
       "   'age': 0.514285714285714,\n",
       "   'topic': 'world/life',\n",
       "   'album_name': 'Like a Virgin',\n",
       "   'playcount': 4414829,\n",
       "   'listeners': 805512,\n",
       "   'duration': 219000,\n",
       "   'album_id': 1830,\n",
       "   'artist_id': 427},\n",
       "  {'id': 9075,\n",
       "   'artist_name': 'madonna',\n",
       "   'track_name': 'stay',\n",
       "   'lyrics': 'life brighter mind load lighter true hard feel away change mind look eye cloud come darken days want stay stay darling stay stay darling stay stay darling stay stay darling lie deception yeah lose give life direction ready know bind hard time ahead fool believe think die instead want leave stay darling stay stay darling stay stay darling stay stay darling walk door know leave past true hard afraid go right cause know want stay stay darling stay stay darling stay stay darling stay stay darling scoop scoop scodolybe know stay think night know stay',\n",
       "   'release_date': '1984',\n",
       "   'len': 95,\n",
       "   'age': 0.514285714285714,\n",
       "   'topic': 'sadness',\n",
       "   'album_name': 'Like a Virgin',\n",
       "   'playcount': 200731,\n",
       "   'listeners': 45311,\n",
       "   'duration': 0,\n",
       "   'album_id': 1830,\n",
       "   'artist_id': 427}],\n",
       " 1838: [{'id': 9086,\n",
       "   'artist_name': 'madonna',\n",
       "   'track_name': \"love don't live here anymore\",\n",
       "   'lyrics': 'abandon live anymore vacancy live anymore live inside conceive wouldn trouble away change right away baby abandon live anymore vacancy live anymore live anymore emptiness memories go away place stay home abandon live anymore vacancy live anymore windmills eye loneliness inside away know miss need abandon live anymore vacancy live anymore',\n",
       "   'release_date': '1984',\n",
       "   'len': 51,\n",
       "   'age': 0.514285714285714,\n",
       "   'topic': 'world/life',\n",
       "   'album_name': 'Frozen',\n",
       "   'playcount': 305977,\n",
       "   'listeners': 62854,\n",
       "   'duration': 285000,\n",
       "   'album_id': 1838,\n",
       "   'artist_id': 427}],\n",
       " 1913: [{'id': 9438,\n",
       "   'artist_name': 'madonna',\n",
       "   'track_name': 'love makes the world go round',\n",
       "   'lyrics': 'easy recite mean damn go fight gun knives save live girl grow world hunger stand reach hand make world round easy forget hear sound pain prejudice make world round think teach mean understand reach hand come time change fate get late hunger stand reach hand make world round easy forget hear sound pain prejudice make world round judge stand shoe know quick look away easy thing know true make world round easy recite mean damn go fight hunger stand reach hand make world round easy forget hear sound pain prejudice make world round',\n",
       "   'release_date': '1986',\n",
       "   'len': 93,\n",
       "   'age': 0.48571428571428504,\n",
       "   'topic': 'world/life',\n",
       "   'album_name': 'True Blue',\n",
       "   'playcount': 202318,\n",
       "   'listeners': 46877,\n",
       "   'duration': 276000,\n",
       "   'album_id': 1913,\n",
       "   'artist_id': 427},\n",
       "  {'id': 9446,\n",
       "   'artist_name': 'madonna',\n",
       "   'track_name': 'jimmy jimmy',\n",
       "   'lyrics': 'go legs twitch daddy say need good lick go vegas come place fool fall fool like crash face want place fool fall fool like wild go hold style shoo boop shoo boop shoo boop take advice place go couldn tell say know fool fall fool like fool fall fool like shoo boop shoo boop shoo boop',\n",
       "   'release_date': '1986',\n",
       "   'len': 56,\n",
       "   'age': 0.48571428571428504,\n",
       "   'topic': 'sadness',\n",
       "   'album_name': 'True Blue',\n",
       "   'playcount': 207321,\n",
       "   'listeners': 49268,\n",
       "   'duration': 236000,\n",
       "   'album_id': 1913,\n",
       "   'artist_id': 427},\n",
       "  {'id': 9604,\n",
       "   'artist_name': 'madonna',\n",
       "   'track_name': 'open your heart',\n",
       "   'lyrics': 'street walk wanna hang head give half desire burn inside choose look work harder want resist open heart baby hold lock hold open heart darling turn think afraid look eye look little wonder follow wrap notice choose look stop try open heart baby hold lock hold open heart darling turn open heart lonely number open heart hard turn stop try open heart baby hold lock hold open heart darling turn open heart open heart hard turn open heart hard turn open heart hard turn open heart hard turn',\n",
       "   'release_date': '1986',\n",
       "   'len': 88,\n",
       "   'age': 0.48571428571428504,\n",
       "   'topic': 'sadness',\n",
       "   'album_name': 'True Blue',\n",
       "   'playcount': 1842486,\n",
       "   'listeners': 257483,\n",
       "   'duration': 229000,\n",
       "   'album_id': 1913,\n",
       "   'artist_id': 427}],\n",
       " 2138: [{'id': 10423,\n",
       "   'artist_name': 'madonna',\n",
       "   'track_name': 'love song',\n",
       "   'lyrics': 'suis prête vous êtes prêt aussi waste time kind baby blind waste time kind line mean mean throw away strike dead wrong song kind lose mind lose mind baby yeah waste time waste time kind baby blind waste time time time time kind line mean mean throw away strike dead wrong song kind lose mind time go slowly waste time fine kind come tell enemies teach wrong song kind lose mind lose mind baby yeah waste time waste time kind baby blind waste time time time time kind line hide feel mind mean baby go song kind embrassemoi lose mind pour dernière fois song song tell enemies teach go want know song song want sing',\n",
       "   'release_date': '1989',\n",
       "   'len': 115,\n",
       "   'age': 0.44285714285714206,\n",
       "   'topic': 'night/time',\n",
       "   'album_name': 'Like a Prayer',\n",
       "   'playcount': 234436,\n",
       "   'listeners': 52297,\n",
       "   'duration': 293000,\n",
       "   'album_id': 2138,\n",
       "   'artist_id': 427},\n",
       "  {'id': 10435,\n",
       "   'artist_name': 'madonna',\n",
       "   'track_name': 'till death do us part',\n",
       "   'lyrics': 'luck run time anymore wish change cause need turn hour need wrong pretend think interrupt life laugh cut like knife friend little wife luck run time anymore wish change luck run time anymore wish change cause laugh like take key break door stay anymore anymore bruise fade away hard things stay watch hate grow wish luck run time anymore wish change luck run time anymore wish change cause take drink go inside start scream vases wish wouldn anymore make demand draw line start fight start truth die anymore wish luck run time anymore wish change luck run time anymore wish change cause laugh like take key break door stay anymore anymore take drink go inside start scream vases wish wouldn anymore make demand draw line start fight start truth die anymore say come know start till death',\n",
       "   'release_date': '1989',\n",
       "   'len': 137,\n",
       "   'age': 0.44285714285714206,\n",
       "   'topic': 'sadness',\n",
       "   'album_name': 'Like a Prayer',\n",
       "   'playcount': 378530,\n",
       "   'listeners': 57171,\n",
       "   'duration': 0,\n",
       "   'album_id': 2138,\n",
       "   'artist_id': 427},\n",
       "  {'id': 10657,\n",
       "   'artist_name': 'madonna',\n",
       "   'track_name': 'oh father',\n",
       "   'lyrics': 'funny tear pain child believe love hurt away think power felt good like yesterday boot pray anger father sin hurt away think power felt good father want live want hurt run away father want live want hurt run away maybe someday look able mean cruel somebody hurt hurt away think power felt good',\n",
       "   'release_date': '1989',\n",
       "   'len': 53,\n",
       "   'age': 0.44285714285714206,\n",
       "   'topic': 'sadness',\n",
       "   'album_name': 'Like a Prayer',\n",
       "   'playcount': 500114,\n",
       "   'listeners': 78716,\n",
       "   'duration': 0,\n",
       "   'album_id': 2138,\n",
       "   'artist_id': 427}],\n",
       " 2209: [{'id': 10772,\n",
       "   'artist_name': 'madonna',\n",
       "   'track_name': 'rescue me',\n",
       "   'lyrics': 'talk talk believe power sing sing believe rescue little girl hurt inside come understand ferocious weak silly pretentious freak feel strange know exactly think pure understand reason prefer mystery cancel misery give person love rescue rescue hard believe give rescue rescue hard believe drown baby throw rope fascist play like need dominate little hungry life understand forgive angry little heart demand bring knees scratch eye world want conquer deliver despise right kneel suddenly begin care understand person love rescue rescue hard believe give rescue rescue hard believe drown baby throw rope understand hard believe life demand send stop drown baby rest rescue give give rescue drown baby throw rope baby throw rope rescue give give rescue drown baby throw rope baby throw rope understand understand understand hard believe life demand send rescue rescue business decide good valuable world understand courage believe believe power believe rescue believe power believe rescue believe believe power believe rescue believe power believe rescue sing believe believe rescue sing sing sing believe rescue talk talk believe power sing sing believe believe rescue rescue rescue believe rescue believe power believe rescue',\n",
       "   'release_date': '1990',\n",
       "   'len': 184,\n",
       "   'age': 0.42857142857142805,\n",
       "   'topic': 'world/life',\n",
       "   'album_name': 'The Immaculate Collection',\n",
       "   'playcount': 336720,\n",
       "   'listeners': 66841,\n",
       "   'duration': 331000,\n",
       "   'album_id': 2209,\n",
       "   'artist_id': 427}],\n",
       " 2355: [{'id': 11451,\n",
       "   'artist_name': 'madonna',\n",
       "   'track_name': 'fever',\n",
       "   'lyrics': 'fever know know care arm fever hard listen baby hear word know fever kiss fever hold tight fever morning fever night light daytime moon light night eye light know gonna treat right bless soul heart away arm believe lips fever kiss fever hold tight fever morning fever night everybody fever know fever scene fever start long fever fever fever fever kiss fever hold tight fever morning fever night love felt arm say baby flame give fever light daytime moon light night eye light know gonna treat right fever kiss fever hold tight fever morning fever night fever kiss fever hold tight everybody fever know fever scene fever start long captain pocahontas affair daddy try kill say daddy dare give fever kiss fever hold tight fever miss daddy treat right fever kiss fever live learn fever util sizzle lovely burn',\n",
       "   'release_date': '1992',\n",
       "   'len': 139,\n",
       "   'age': 0.4,\n",
       "   'topic': 'romantic',\n",
       "   'album_name': 'The Girlie Show: Live Down Under',\n",
       "   'playcount': 564982,\n",
       "   'listeners': 74183,\n",
       "   'duration': 0,\n",
       "   'album_id': 2355,\n",
       "   'artist_id': 427}],\n",
       " 2532: [{'id': 12272,\n",
       "   'artist_name': 'madonna',\n",
       "   'track_name': 'take a bow',\n",
       "   'lyrics': 'night masquerade get older light curtain crowd line feel mean watch watch lonely lonely know guess know true know true take grant goodbye goodbye byebye goodbye laugh come easy break heart break heart hide smile world love clown smile world love clown wish stay deserve award role play role play masquerade lonely lonely know guess know true know true take grant goodbye goodbye guess know true know true take grant goodbye goodbye byebye goodbye world stage world stage know story know break break break break break heart guess know take grant goodbye guess know true know true take grant goodbye goodbye byebye goodbye goodbye',\n",
       "   'release_date': '1994',\n",
       "   'len': 104,\n",
       "   'age': 0.37142857142857105,\n",
       "   'topic': 'sadness',\n",
       "   'album_name': 'Bedtime Stories',\n",
       "   'playcount': 1385237,\n",
       "   'listeners': 199190,\n",
       "   'duration': 318000,\n",
       "   'album_id': 2532,\n",
       "   'artist_id': 427}],\n",
       " 2773: [{'id': 13292,\n",
       "   'artist_name': 'madonna',\n",
       "   'track_name': 'nothing really matters',\n",
       "   'lyrics': 'young matter make grow change matter need come look life clear live selfishly realize win end begin matter need come matter need come take past away like future make darkness like light shelter comfort arm matter need come matter need come matter need',\n",
       "   'release_date': '1998',\n",
       "   'len': 43,\n",
       "   'age': 0.314285714285714,\n",
       "   'topic': 'world/life',\n",
       "   'album_name': 'Ray of Light',\n",
       "   'playcount': 1223146,\n",
       "   'listeners': 163864,\n",
       "   'duration': 0,\n",
       "   'album_id': 2773,\n",
       "   'artist_id': 427},\n",
       "  {'id': 13408,\n",
       "   'artist_name': 'madonna',\n",
       "   'track_name': 'the power of good-bye',\n",
       "   'lyrics': 'heart open spell break love freedom come learn creation come learn lesson learn fortress burn pain warn wrong pray long wanna higher leave place leave hide greater power power goodbye heart open spell break love lesson learn fortress leave lose heart bruise greater power power goodbye learn goodbye yearn goodbye leave place leave hide greater power power goodbye leave lose heart bruise greater power power goodbye',\n",
       "   'release_date': '1998',\n",
       "   'len': 66,\n",
       "   'age': 0.314285714285714,\n",
       "   'topic': 'sadness',\n",
       "   'album_name': 'Ray of Light',\n",
       "   'playcount': 1469275,\n",
       "   'listeners': 193018,\n",
       "   'duration': 0,\n",
       "   'album_id': 2773,\n",
       "   'artist_id': 427},\n",
       "  {'id': 13435,\n",
       "   'artist_name': 'madonna',\n",
       "   'track_name': 'frozen',\n",
       "   'lyrics': 'eye want life want freeze heart open consume waste time hate regret break heart open mmmmmm melt heart mmmmmm apart mmmmmm mmmmmm hold point place blame know suffer lose heart break need hurt inside freeze heart open mmmmmm melt heart mmmmmm apart mmmmmm mmmmmm hold eye want life want freeze heart open mmmmmm melt heart mmmmmm apart mmmmmm mmmmmm hold melt heart mmmmmm apart mmmmmm mmmmmm hold melt heart',\n",
       "   'release_date': '1998',\n",
       "   'len': 69,\n",
       "   'age': 0.314285714285714,\n",
       "   'topic': 'sadness',\n",
       "   'album_name': 'Ray of Light',\n",
       "   'playcount': 4444800,\n",
       "   'listeners': 606351,\n",
       "   'duration': 378000,\n",
       "   'album_id': 2773,\n",
       "   'artist_id': 427}],\n",
       " 3287: [{'id': 15354,\n",
       "   'artist_name': 'madonna',\n",
       "   'track_name': 'jump',\n",
       "   'lyrics': 'learn place time waste time waste time afraid face afraid stay go road work fight till place ready jump ready jump look baby ready jump hand ready jump learn lesson start sisters thing depend family life gonna drop like limbs tree sway swing bend make ready jump ready jump look baby ready jump hand ready ready learn place time waste work fight till place sway swing bend sisters sisters sisters sisters ready jump ready jump look baby ready jump hand ready jump ready jump ready jump look baby ready jump hand ready jump',\n",
       "   'release_date': '2005',\n",
       "   'len': 93,\n",
       "   'age': 0.21428571428571402,\n",
       "   'topic': 'night/time',\n",
       "   'album_name': 'The Confessions Tour',\n",
       "   'playcount': 2340651,\n",
       "   'listeners': 342979,\n",
       "   'duration': 0,\n",
       "   'album_id': 3287,\n",
       "   'artist_id': 427},\n",
       "  {'id': 15429,\n",
       "   'artist_name': 'madonna',\n",
       "   'track_name': 'hung up',\n",
       "   'lyrics': 'time go slowly time go slowly time go slowly time go slowly time go slowly time go slowly little thing hang hang wait baby night tire wait time go slowly time hesitate catch know time go slowly time go slowly time go slowly know little thing hang hang wait baby night tire wait little thing hang hang wait baby night tire wait ring ring ring go telephone light home tick tick tock quarter hang wait know hesitate cause late little thing hang hang wait baby night tire wait little thing hang hang wait baby night tire wait little thing little thing hang hang wait wait tire wait time go slowly time go slowly time go slowly time go slowly slowly slowly slowly slowly slowly slowly slowly slowly slowly slowly slowly slowly slowly know little thing hang hang wait baby night tire wait little thing hang hang wait baby night tire wait little thing little thing hang hang wait wait tire wait',\n",
       "   'release_date': '2005',\n",
       "   'len': 161,\n",
       "   'age': 0.21428571428571402,\n",
       "   'topic': 'night/time',\n",
       "   'album_name': 'The Confessions Tour',\n",
       "   'playcount': 7532416,\n",
       "   'listeners': 940190,\n",
       "   'duration': 338000,\n",
       "   'album_id': 3287,\n",
       "   'artist_id': 427}]}"
      ]
     },
     "execution_count": 24,
     "metadata": {},
     "output_type": "execute_result"
    }
   ],
   "source": [
    "tracks"
   ]
  },
  {
   "cell_type": "markdown",
   "metadata": {},
   "source": [
    "## Stworzenie raportów\n",
    "\n",
    "Ostatnią częścią warsztatu jest odpowiednie wyświetlenie oraz zapisanie danych.\n",
    "\n",
    "### Wyświetlenie danych w notatniku\n",
    "\n",
    "Na sam początek zajmiemy się wyświetleniem danych w notatniku, dlatego tutaj sobie skopiujemy podany we wskazówce kod."
   ]
  },
  {
   "cell_type": "code",
   "execution_count": 25,
   "metadata": {},
   "outputs": [],
   "source": [
    "msg_template = (\"{nb}. {track_name}: \" \n",
    "                \"Odtworzeń: {playcount} | \"\n",
    "                \"Słuchaczy: {listeners} | \"\n",
    "                \"Czas trwania: {duration} | \"\n",
    "                \"Tematyka: {topic}\"\n",
    "       )"
   ]
  },
  {
   "cell_type": "markdown",
   "metadata": {},
   "source": [
    "to co teraz nam pozostaje to wygenerować teraz raport, przypomnijmy w następującym formacie:\n",
    "```\n",
    "Artysta: metallica\n",
    "|___ Album: Master Of Puppets\n",
    "    |___ Tracklista:\n",
    "          1. battery (remastered): Odtworzeń: 393621 | Słuchaczy: 62346 | Wiek: 0.48571428571428504 | Czas trwania: 0 | Tematyka: sadnes\n",
    "          .... \n",
    "```\n",
    "Na podstawie powyższego szablonu oraz danych, które pobraliśmy możemy określić dalszy zakres prac:\n",
    "1. Artysta ma zostać wyświetlony tylko raz,\n",
    "1. Dla każdego albumu potrzebujemy wyświetlić jego nazwę oraz tracklistę,\n",
    "1. Dla każdego utworu z tracklisty, uzupełniamy szablon zgodnie z wytycznymi.\n",
    "\n",
    "Przekładając to na język python, do napisania mamy dwie pętle:\n",
    "- jedna, która będzie iterowała po albumach wykonawcy\n",
    "- kolejna, która będzie iterowała po utworach z danego albumu.\n",
    "\n",
    "Kodując powyższe otrzymamy:"
   ]
  },
  {
   "cell_type": "code",
   "execution_count": 26,
   "metadata": {},
   "outputs": [
    {
     "name": "stdout",
     "output_type": "stream",
     "text": [
      "Artysta: madonna\n",
      "|___ Album: Madonna\n",
      "    | Tracklista:\n",
      "     1. holiday: Odtworzeń: 2310260 | Słuchaczy: 444332 | Czas trwania: 241000 | Tematyka: world/life\n",
      "     2. lucky star: Odtworzeń: 1551916 | Słuchaczy: 296486 | Czas trwania: 215000 | Tematyka: night/time\n",
      "|___ Album: Like a Virgin\n",
      "    | Tracklista:\n",
      "     1. material girl: Odtworzeń: 4414829 | Słuchaczy: 805512 | Czas trwania: 219000 | Tematyka: world/life\n",
      "     2. stay: Odtworzeń: 200731 | Słuchaczy: 45311 | Czas trwania: 0 | Tematyka: sadness\n",
      "|___ Album: Frozen\n",
      "    | Tracklista:\n",
      "     1. love don't live here anymore: Odtworzeń: 305977 | Słuchaczy: 62854 | Czas trwania: 285000 | Tematyka: world/life\n",
      "|___ Album: True Blue\n",
      "    | Tracklista:\n",
      "     1. love makes the world go round: Odtworzeń: 202318 | Słuchaczy: 46877 | Czas trwania: 276000 | Tematyka: world/life\n",
      "     2. jimmy jimmy: Odtworzeń: 207321 | Słuchaczy: 49268 | Czas trwania: 236000 | Tematyka: sadness\n",
      "     3. open your heart: Odtworzeń: 1842486 | Słuchaczy: 257483 | Czas trwania: 229000 | Tematyka: sadness\n",
      "|___ Album: Like a Prayer\n",
      "    | Tracklista:\n",
      "     1. love song: Odtworzeń: 234436 | Słuchaczy: 52297 | Czas trwania: 293000 | Tematyka: night/time\n",
      "     2. till death do us part: Odtworzeń: 378530 | Słuchaczy: 57171 | Czas trwania: 0 | Tematyka: sadness\n",
      "     3. oh father: Odtworzeń: 500114 | Słuchaczy: 78716 | Czas trwania: 0 | Tematyka: sadness\n",
      "|___ Album: The Immaculate Collection\n",
      "    | Tracklista:\n",
      "     1. rescue me: Odtworzeń: 336720 | Słuchaczy: 66841 | Czas trwania: 331000 | Tematyka: world/life\n",
      "|___ Album: The Girlie Show: Live Down Under\n",
      "    | Tracklista:\n",
      "     1. fever: Odtworzeń: 564982 | Słuchaczy: 74183 | Czas trwania: 0 | Tematyka: romantic\n",
      "|___ Album: Bedtime Stories\n",
      "    | Tracklista:\n",
      "     1. take a bow: Odtworzeń: 1385237 | Słuchaczy: 199190 | Czas trwania: 318000 | Tematyka: sadness\n",
      "|___ Album: Ray of Light\n",
      "    | Tracklista:\n",
      "     1. nothing really matters: Odtworzeń: 1223146 | Słuchaczy: 163864 | Czas trwania: 0 | Tematyka: world/life\n",
      "     2. the power of good-bye: Odtworzeń: 1469275 | Słuchaczy: 193018 | Czas trwania: 0 | Tematyka: sadness\n",
      "     3. frozen: Odtworzeń: 4444800 | Słuchaczy: 606351 | Czas trwania: 378000 | Tematyka: sadness\n",
      "|___ Album: The Confessions Tour\n",
      "    | Tracklista:\n",
      "     1. jump: Odtworzeń: 2340651 | Słuchaczy: 342979 | Czas trwania: 0 | Tematyka: night/time\n",
      "     2. hung up: Odtworzeń: 7532416 | Słuchaczy: 940190 | Czas trwania: 338000 | Tematyka: night/time\n"
     ]
    }
   ],
   "source": [
    "print(f\"Artysta: {artist}\")  # wyświetlenie podanego artysty\n",
    "\n",
    "# iterujemy po albumach dla danego wykonawcy\n",
    "for album_id in albums:\n",
    "    print(f\"|___ Album: {albums[album_id]}\")  # wyświetlamy informacje o albumie\n",
    "    print(f\"    | Tracklista:\")  # wyświetlamy nagłówek (4 spacje)\n",
    "\n",
    "    album_tracks = tracks[album_id]  # pobieramy utwory znajdujące się na albumie\n",
    "    for nb, track in enumerate(album_tracks, 1):  # przebiegamy po kolejnych utorach z albumy\n",
    "\n",
    "        # odpowiednio filtrujemy szablon wyjściowy\n",
    "        print(\"     \" + msg_template.format(  # dodatkowo dodaliśmy 6 spacji, aby ładnie się lista ułożyła\n",
    "            nb=nb,\n",
    "            track_name=track['track_name'],\n",
    "            playcount=track['playcount'],\n",
    "            listeners=track['listeners'],\n",
    "            duration=track['duration'],\n",
    "            topic=track['topic'],\n",
    "            ))"
   ]
  },
  {
   "cell_type": "markdown",
   "metadata": {},
   "source": [
    "### Zapisanie danych do pliku CSV\n",
    "\n",
    "Aby zapisać dane do pliku `csv` przyda się nam dodatkowo dedykowana do tego celu biblioteka pythonowa, która była omawiana w trakcie pierwszego zjazdu:"
   ]
  },
  {
   "cell_type": "code",
   "execution_count": 27,
   "metadata": {},
   "outputs": [],
   "source": [
    "import csv"
   ]
  },
  {
   "cell_type": "markdown",
   "metadata": {},
   "source": [
    "Pomimo innego formatu wyjściowego, szkielet rozwiązania będzie podobny- stworzymy dwie pętle, które będą generować kolejne wiersze do pliku `csv`. \n",
    "\n",
    "Musimy jednak zadbać dodatkowo o stworzenie nagłówka, przed dodawaniem wierszy."
   ]
  },
  {
   "cell_type": "code",
   "execution_count": 28,
   "metadata": {},
   "outputs": [],
   "source": [
    "file_name = f\"{artist}.csv\"  # stworzenie nazwy pliku\n",
    "f = open(file_name, mode='w+', encoding=\"UTF-8\", newline='')  # ustawienie kodowania, trybu pracy z plikiem\n",
    "\n",
    "header = [\"artist\", \"album\", \"track\", \"listeners\", \"likes\", \"duration\", \"topic\"]  # kopiujemy z treści zadania postać nagłówka\n",
    "\n",
    "# definiujemy plik csv zgodnie z resztą wymagań\n",
    "writer = csv.writer(\n",
    "    f, \n",
    "    delimiter=\"|\", \n",
    "    quotechar='\"',  # dzięki temu znaki będą opatrzone dodatkowo \"text\"\n",
    "    quoting=csv.QUOTE_NONNUMERIC,  # określamy, że nie chcemy aby liczby były w \"123\"\n",
    "    doublequote=True  # w przypadku piosenek lub albumów, w których występuje \" zostaną one dodatkowo opatrzone \"\"\"\n",
    ")\n",
    "writer.writerow(header)  # dodajemy nagłówek\n",
    "\n",
    "for album_id in albums:  # przebiegamy po poszczególnych albumach\n",
    "    album_tracks = tracks[album_id]  # pobieramy utwory znajdujące się na albumie\n",
    "    for id, track in enumerate(album_tracks, 1):  # tworzymy nowy wiersz zawierający wymagane dane\n",
    "        writer.writerow([\n",
    "            artist,\n",
    "            albums[album_id],\n",
    "            track['track_name'],\n",
    "            track['playcount'],\n",
    "            track['listeners'],\n",
    "            track['duration'],\n",
    "            track['topic'],\n",
    "        ])\n",
    "f.close()"
   ]
  },
  {
   "cell_type": "markdown",
   "metadata": {},
   "source": [
    "> Ze względu na czytelność kodu (kolejny poziom wcięcia) w tym rozwiązaniu nie otwieraliśmy pliku przy użyciu kontekstu. Przy takim podejściu należy pamiętać o tym, aby na końcu pracy z plikiem użyć `f.close()`  "
   ]
  },
  {
   "cell_type": "markdown",
   "metadata": {},
   "source": [
    "## Podsumowanie\n",
    "\n",
    "W tym artykule zapoznaliśmy się z przykładowym rozwiązaniem zadania. Pracę rozpoczęliśmy od stworzenia szkicu, czyli po prostu pobrania danych z API, aby w kolejnej części dokonać uogólnienia rozwiązania i stworzyć dedykowane funkcje, takie jak:\n",
    "- `get_artist_id`, która na podstawie nazwy artysty pobieże jego `id`,\n",
    "- `get_artist_albums`, zwracająca albumy powiązane z danym artystą,\n",
    "- `get_album_tracks` - pobierająca listę utworów z danego albumu,\n",
    "- `get_track_data` - pobierająca dane utworu,\n",
    "których zadaniem było tylko pobieranie danych z API, bez większych ingerencji w ich wynik o ile nie było to zasadne - jak w przypadku `get_artist_albums`, gdzie dokonaliśmy konwersji listy na słownik.\n",
    "\n",
    "Bazując na powyższych zdefiniowaliśmy również metody _wyższego poziomu_, których zadaniem było odpowiednie połączenie funkcji bazujących bezpośrednio na API, co pozwoliło nam finalnie na pobranie danych za pomocą dwóch, linijek kodu:\n",
    "```python\n",
    "artist_id = get_artist_id(artist)\n",
    "albums, tracks = download_artist_albums(artist_id)\n",
    "```\n",
    "Dzięki czemu rozwiązanie stało się bardzo czytelne.\n",
    "\n",
    "Ostatnią częścią zadania było stworzenie dwóch raportów:\n",
    "- jednego wyświetlanego w konsoli,\n",
    "- drugiego, którego wynikiem jest plik csv o nazwie `{artist_name}.csv` w zależności od tego, dla kogo pobieraliśmy dane."
   ]
  }
 ],
 "metadata": {
  "kernelspec": {
   "display_name": "Python 3 (ipykernel)",
   "language": "python",
   "name": "python3"
  },
  "language_info": {
   "codemirror_mode": {
    "name": "ipython",
    "version": 3
   },
   "file_extension": ".py",
   "mimetype": "text/x-python",
   "name": "python",
   "nbconvert_exporter": "python",
   "pygments_lexer": "ipython3",
   "version": "3.10.5"
  }
 },
 "nbformat": 4,
 "nbformat_minor": 2
}
