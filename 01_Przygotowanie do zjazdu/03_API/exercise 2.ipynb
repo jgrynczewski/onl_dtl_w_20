{
 "cells": [
  {
   "cell_type": "markdown",
   "metadata": {},
   "source": [
    "# Zadanie 2\n",
    "\n",
    "Zarejestruj się na stronie [exchangeratesapi.io](https://exchangeratesapi.io/) jeśli jeszcze tego nie zrobiłeś. Po rejestracji skopiuj swój klucz i umieść go w zmiennej `APIKEY` poniżej.\n",
    "\n",
    "Zainstaluj bibliotekę `requests` - posłuży ona do komunikacji z API do odczytu aktualnych kursów walut.\n",
    "\n",
    "Gdy klucz będzie aktywny, poniższy kod powinien wyświetlić kurs walut EURAUD."
   ]
  },
  {
   "cell_type": "code",
   "execution_count": null,
   "metadata": {},
   "outputs": [],
   "source": [
    "# Tutaj zainstaluj requests"
   ]
  },
  {
   "cell_type": "code",
   "execution_count": null,
   "metadata": {},
   "outputs": [],
   "source": [
    "# Popraw tutaj!\n",
    "APIKEY = '...'"
   ]
  },
  {
   "cell_type": "code",
   "execution_count": null,
   "metadata": {},
   "outputs": [],
   "source": [
    "import requests\n",
    "\n",
    "response = requests.get(f'http://api.exchangeratesapi.io/latest?access_key={APIKEY}')\n",
    "\n",
    "if response.json()['success']:\n",
    "    print('Kurs EURAUD wynosi obecnie', response.json()['rates']['AUD'])\n",
    "else:\n",
    "    print('Błąd:', response.json()['error']['info'])"
   ]
  }
 ],
 "metadata": {
  "kernelspec": {
   "display_name": "Python 3",
   "language": "python",
   "name": "python3"
  },
  "language_info": {
   "codemirror_mode": {
    "name": "ipython",
    "version": 3
   },
   "file_extension": ".py",
   "mimetype": "text/x-python",
   "name": "python",
   "nbconvert_exporter": "python",
   "pygments_lexer": "ipython3",
   "version": "3.8.10"
  }
 },
 "nbformat": 4,
 "nbformat_minor": 4
}
