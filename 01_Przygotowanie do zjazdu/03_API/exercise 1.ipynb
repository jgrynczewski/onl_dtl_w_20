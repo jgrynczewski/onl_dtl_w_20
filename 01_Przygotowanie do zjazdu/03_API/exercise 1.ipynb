{
 "cells": [
  {
   "cell_type": "markdown",
   "metadata": {},
   "source": [
    "# Zadanie 1\n",
    "\n",
    "Zarejestruj się na stronie [openweathermap.org](https://openweathermap.org/) jeśli jeszcze tego nie zrobiłaś lub zrobiłeś. Pamiętaj o potwierdzeniu adresu e-mail.\n",
    "\n",
    "Ze strony [home.openweathermap.org/api_keys](https://home.openweathermap.org/api_keys) skopiuj swój klucz, i umieść go w zmiennej `APIKEY` poniżej.\n",
    "\n",
    "Zainstaluj bibliotekę `requests` - posłuży ona do komunikacji z API do odczytu informacji o pogodzie.\n",
    "\n",
    "Gdy klucz będzie aktywny, poniższy kod powinien wyświetlić aktualną pogodę w Londynie."
   ]
  },
  {
   "cell_type": "code",
   "execution_count": 1,
   "metadata": {},
   "outputs": [],
   "source": [
    "# Popraw tutaj!\n",
    "APIKEY = '...'"
   ]
  },
  {
   "cell_type": "code",
   "execution_count": 2,
   "metadata": {},
   "outputs": [],
   "source": [
    "# Zainstaluj bibliotekę requests\n"
   ]
  },
  {
   "cell_type": "code",
   "execution_count": null,
   "metadata": {},
   "outputs": [],
   "source": [
    "import requests\n",
    "\n",
    "response = requests.get(f'https://api.openweathermap.org/data/2.5/weather?q=London&appid={APIKEY}')\n",
    "\n",
    "if response.status_code == 401:\n",
    "    print('Niepoprawny klucz, lub po prostu jeszcze nie aktywny - aktywacja zajmuje od 10 minut do 2 godzin!')\n",
    "elif response.status_code == 200:\n",
    "    print('Pogoda w Londynie:', response.json()['weather'][0]['main'])\n",
    "else:\n",
    "    print('Na taki kod odpowiedzi nie jesteśmy gotowi!')"
   ]
  }
 ],
 "metadata": {
  "kernelspec": {
   "display_name": "Python 3",
   "language": "python",
   "name": "python3"
  },
  "language_info": {
   "codemirror_mode": {
    "name": "ipython",
    "version": 3
   },
   "file_extension": ".py",
   "mimetype": "text/x-python",
   "name": "python",
   "nbconvert_exporter": "python",
   "pygments_lexer": "ipython3",
   "version": "3.9.1"
  }
 },
 "nbformat": 4,
 "nbformat_minor": 4
}
