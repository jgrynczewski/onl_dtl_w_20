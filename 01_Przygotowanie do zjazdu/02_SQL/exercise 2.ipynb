{
 "cells": [
  {
   "cell_type": "markdown",
   "metadata": {},
   "source": [
    "# Zadanie 2\n",
    "\n",
    "Uzupełnij kod danymi do połączenia z bazą PostgreSQL. Wykonaj kilka zapytań, i dowiedz się kilku informacji o kliencie **Muscle Machine Inc**.\n",
    "\n",
    "W tym celu, na początku należy dowiedzieć się, jaki `customerNumber` ma klient **Muscle Machine Inc** - ta część kodu jest już gotowa.\n",
    "\n",
    "Następnie sprawdź (każda punkt to osobne zapytanie i wyświetlenie wyników):\n",
    "- imię i nazwisko osoby kontaktowej klienta (rozbuduj zapytanie które odczytuje `customerNumber`)\n",
    "- jak nazywa się sprzedawca opiekujący się tym klientem (ponownie rozbuduj zapytanie, aby poznać identyfikator pracownika - a kolejnym zapytaniem odczytaj informacje o tym pracowniku)\n",
    "- identyfikatory, statusy i komentarze jego zamówień\n",
    "- numery czeków oraz kwoty, jakimi ten klient zapłacił\n",
    "\n",
    "Pamiętaj, że zapytania to zwykłe stringi - możesz w nie wkomponować zmienne na kilka różnych sposobów, m.in. za pomocą składni f-string:\n",
    "```python\n",
    "cursor.execute(f\"SELECT orderNumber, status FROM orders WHERE customerNumber = {customerNumber}\")\n",
    "```\n",
    "\n",
    "Ten sposób na razie wystarczy - na zajęciach dowiesz się, jak **bezpiecznie** przekazać dane do zapytania."
   ]
  },
  {
   "cell_type": "code",
   "execution_count": null,
   "metadata": {},
   "outputs": [],
   "source": [
    "import psycopg2\n",
    "\n",
    "connection = psycopg2.connect(\n",
    "    host='localhost',\n",
    "    user='postgres',  # popraw jeśli to konieczne\n",
    "    password='postgres',  # popraw jeśli to konieczne\n",
    "    dbname='classicmodels',  # popraw jeśli to konieczne\n",
    ")\n",
    "\n",
    "cursor = connection.cursor()"
   ]
  },
  {
   "cell_type": "code",
   "execution_count": null,
   "metadata": {},
   "outputs": [],
   "source": [
    "cursor.execute(\"SELECT customerNumber FROM customers WHERE customerName = 'Muscle Machine Inc'\")\n",
    "\n",
    "row = cursor.fetchone()\n",
    "print(row)\n",
    "print(type(row))  # każdy wiersz to tupla, nawet gdy w środku jest tylko jedna wartość!"
   ]
  },
  {
   "cell_type": "code",
   "execution_count": null,
   "metadata": {},
   "outputs": [],
   "source": [
    "customerNumber = row[0]\n",
    "print(customerNumber)\n",
    "print(type(customerNumber))"
   ]
  },
  {
   "cell_type": "code",
   "execution_count": null,
   "metadata": {},
   "outputs": [],
   "source": [
    "print('Klient \"Muscle Machine Inc\" ma customerNumber =', customerNumber)"
   ]
  },
  {
   "cell_type": "code",
   "execution_count": null,
   "metadata": {},
   "outputs": [],
   "source": [
    "# Tu pobierz i wyświetl pozostałe informacje\n"
   ]
  }
 ],
 "metadata": {
  "kernelspec": {
   "display_name": "Python 3 (ipykernel)",
   "language": "python",
   "name": "python3"
  },
  "language_info": {
   "codemirror_mode": {
    "name": "ipython",
    "version": 3
   },
   "file_extension": ".py",
   "mimetype": "text/x-python",
   "name": "python",
   "nbconvert_exporter": "python",
   "pygments_lexer": "ipython3",
   "version": "3.11.1"
  }
 },
 "nbformat": 4,
 "nbformat_minor": 4
}
