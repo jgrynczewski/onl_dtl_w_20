{
 "cells": [
  {
   "cell_type": "markdown",
   "metadata": {},
   "source": [
    "# Usuwanie danych\n",
    "\n",
    "Nasza firma kończy współpracę z firmą `Tokyo Collectables, Ltd`. W tym celu:\n",
    "1. Spróbuj usunąć dane z tabeli `customers` o firmie o nazwie `Tokyo Collectables, Ltd`. Zastanów się nad otrzymanym komunikatem? Co może on oznaczać?\n",
    "\n",
    "Wiemy już, że nie możemy usunąć danych, które występują w jakiejś relacji. Skutkowałoby to brakiem zgodności danych (mielibyśmy w systemie zamówienia dla nieistniejącej firmy).\n",
    "W tym przypadku firma `Tokyo Collectables, Ltd` ma istniejące zamówienia w systemie. Musimy je usunąć, zanim baza danych pozwoli nam na usunięcie tej firmy. W tym celu:\n",
    "1. Znajdź `customernumber` dla firmy `Tokyo Collectables, Ltd`,\n",
    "2. Usuń wszystkie zamówienia przypisane do tej firmy,\n",
    "\n",
    "Usunięcie zamówień również się nie uda, z tego samego powodu. Najpierw musimy usunąć wszystkie szczegóły tych zamówień. W tym celu:\n",
    "1. Zobacz jakie numery `ordernumber` mają zamówienia dla firmy `Tokyo Collectables, Ltd`,\n",
    "2. Usuń wszystkie szczegóły (tabelka `orderdetails`) dla tych zamówień. Spróbuj zrobić to za pomocą jednego zapytania (użyj słowa kluczowego `AND` lub operatora `IN`),\n",
    "3. Usuń wszystkie zamówienia,\n",
    "4. Spróbuj usunąć firmę z bazy danych,\n",
    "\n",
    "Firmy nadal nie udaje się usunąć. Musimy jeszcze wyrzucić wszystkie płatności, jakie są do niej przypisane w systemie. Odbędzie się to analogicznie do usuwania szczegółów zamówień.\n",
    "\n",
    "Usunięcie danych z bazy nie jest takie proste. Proces jest specjalnie tak zaprojektowany, żeby zmniejszyć możliwość przypadkowego skasowania danych. \n",
    "\n",
    "\n"
   ]
  },
  {
   "cell_type": "code",
   "execution_count": null,
   "metadata": {},
   "outputs": [],
   "source": []
  }
 ],
 "metadata": {
  "kernelspec": {
   "display_name": "Python 3",
   "language": "python",
   "name": "python3"
  },
  "language_info": {
   "codemirror_mode": {
    "name": "ipython",
    "version": 3
   },
   "file_extension": ".py",
   "mimetype": "text/x-python",
   "name": "python",
   "nbconvert_exporter": "python",
   "pygments_lexer": "ipython3",
   "version": "3.8.6"
  }
 },
 "nbformat": 4,
 "nbformat_minor": 4
}
