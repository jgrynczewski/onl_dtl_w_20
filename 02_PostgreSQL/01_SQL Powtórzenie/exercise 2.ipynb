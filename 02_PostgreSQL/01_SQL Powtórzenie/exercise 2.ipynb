{
 "cells": [
  {
   "cell_type": "markdown",
   "metadata": {},
   "source": [
    "# Zamiana danych\n",
    "\n",
    "Napisz zapytania SQL, które:\n",
    "1. Zmienią lokalizację pracy pracownika `Bott Larry` z biura o id `7` na biuro o id `5`,\n",
    "1. Zmieni limit kredytowy dla firmy 'Tekni Collectables Inc.' na  60 000.\n",
    "1. Zmieni liczbę dostępnych egzemplarzy dla wszystkich produktów należących do linii produkcyjnej `Trucks and Buses` na 0, \n",
    "1. Zmienią ilość zamówionych przedmiotów o kodzie `S18_2957` w zamówieniu numer `10103` na 60,\n",
    "\n"
   ]
  },
  {
   "cell_type": "code",
   "execution_count": null,
   "metadata": {},
   "outputs": [],
   "source": []
  }
 ],
 "metadata": {
  "kernelspec": {
   "display_name": "Python 3",
   "language": "python",
   "name": "python3"
  },
  "language_info": {
   "codemirror_mode": {
    "name": "ipython",
    "version": 3
   },
   "file_extension": ".py",
   "mimetype": "text/x-python",
   "name": "python",
   "nbconvert_exporter": "python",
   "pygments_lexer": "ipython3",
   "version": "3.8.6"
  }
 },
 "nbformat": 4,
 "nbformat_minor": 4
}
