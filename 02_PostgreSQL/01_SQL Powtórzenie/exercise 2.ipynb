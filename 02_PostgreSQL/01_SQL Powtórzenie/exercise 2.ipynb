{
 "cells": [
  {
   "cell_type": "markdown",
   "metadata": {},
   "source": [
    "# Zamiana danych\n",
    "\n",
    "Napisz zapytania SQL, które:\n",
    "1. Zmienią lokalizację pracy pracownika `Bott Larry` z biura o id `7` na biuro o id `5`,\n",
    "1. Zmieni limit kredytowy dla firmy 'Tekni Collectables Inc.' na  60 000.\n",
    "1. Zmieni liczbę dostępnych egzemplarzy dla wszystkich produktów należących do linii produkcyjnej `Trucks and Buses` na 0, \n",
    "1. Zmienią ilość zamówionych przedmiotów o kodzie `S18_2957` w zamówieniu numer `10103` na 60,\n",
    "\n"
   ]
  },
  {
   "cell_type": "markdown",
   "metadata": {},
   "source": [
    "1. <code>UPDATE employees SET officecode=5 WHERE firstname='Larry' AND lastname='Bott';</code>\n",
    "2. <code>UPDATE customers SET creditlimit=60000 WHERE customername='Tekni Collectables Inc.';</code>\n",
    "3. <code>UPDATE products SET quantityinstock=0 WHERE productline='Trucks and Buses';</code>\n",
    "4. <code>UPDATE orderdetails SET quantityordered=60 WHERE ordernumber=10103 AND productcode='S18_2957';</code>"
   ]
  }
 ],
 "metadata": {
  "kernelspec": {
   "display_name": "Python 3 (ipykernel)",
   "language": "python",
   "name": "python3"
  },
  "language_info": {
   "codemirror_mode": {
    "name": "ipython",
    "version": 3
   },
   "file_extension": ".py",
   "mimetype": "text/x-python",
   "name": "python",
   "nbconvert_exporter": "python",
   "pygments_lexer": "ipython3",
   "version": "3.11.1"
  }
 },
 "nbformat": 4,
 "nbformat_minor": 4
}
