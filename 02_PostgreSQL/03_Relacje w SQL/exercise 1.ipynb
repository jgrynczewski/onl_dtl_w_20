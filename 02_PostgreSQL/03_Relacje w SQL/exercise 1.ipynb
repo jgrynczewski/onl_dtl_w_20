{
 "cells": [
  {
   "cell_type": "markdown",
   "metadata": {},
   "source": [
    "# Relacje w SQL\n",
    "\n",
    "Napisz zapytania SQL, które:\n",
    "1. Połączą tabele `products` i `productlines` oraz wyświetlą wszystkie informacje z obu tabel,\n",
    "2. Połączą tabele `customers` i `employees`. Zobacz jakie informacje możesz wyczytać używając różnych rodzai połączeń: `LEFT JOIN`, `ROGHT JOIN` i `JOIN`. Czy są jakieś firmy, które nie mają przypisanego pracownika? Czy są jacyś pracownicy, którzy nie mają przypisanej do siebie firmy? Czy są pracownicy, którzy mają przypisaną więcej niż jedną firmę do siebie?\n",
    "3. Dowiedz się, czy wszyscy pracownicy są przypisanie do jakiegoś biura?"
   ]
  },
  {
   "cell_type": "markdown",
   "metadata": {},
   "source": [
    "1. <code>SELECT * FROM products JOIN productlines ON products.productline=productlines.productline;</code>\n",
    "2. <code>SELECT * FROM customers JOIN employees ON customers.salesrepemployeenumber=employees.employeenumber;</code>\n",
    "\n",
    "* Firmy bez przypisanego pracownika\n",
    "\n",
    "<code>SELECT * FROM customers LEFT JOIN employees ON customers.salesrepemployeenumber=employees.employeenumber \n",
    "WHERE employees.employeenumber IS NULL;</code>\n",
    "\n",
    "Prościej (bez joina): <code>SELECT * FROM customers where salesrepemployeenumber IS NULL;</code>\n",
    "\n",
    "* Pracownicy nie mający przypisanej firmy\n",
    "\n",
    "<code>SELECT * FROM customers RIGHT JOIN employees ON customers.salesrepemployeenumber=employees.employeenumber \n",
    "where customers.customernumber IS NULL;</code>\n",
    "\n",
    "* Czy są pracownicy mający przypisaną więcej niż jedną firmę do siebie?\n",
    "\n",
    "można pogrupować:\n",
    "\n",
    "<code>SELECT salesrepemployeenumber, count(salesrepemployeenumber) FROM customers GROUP BY salesrepemployeenumber HAVING count(*) > 1;</code>\n",
    "\n",
    "albo zrobić self-joina (i pogrupować - już mi się nie chciało, wystarczy popatrzeć na wynik self-joina)\n",
    "\n",
    "<code>select * from customers AS c1 JOIN customers AS c2 ON c1.salesrepemployeenumber=c2.salesrepemployeenumber;</code>\n",
    "\n",
    "3. <code>SELECT * FROM employees WHERE officecode IS NULL;</code>"
   ]
  }
 ],
 "metadata": {
  "kernelspec": {
   "display_name": "Python 3 (ipykernel)",
   "language": "python",
   "name": "python3"
  },
  "language_info": {
   "codemirror_mode": {
    "name": "ipython",
    "version": 3
   },
   "file_extension": ".py",
   "mimetype": "text/x-python",
   "name": "python",
   "nbconvert_exporter": "python",
   "pygments_lexer": "ipython3",
   "version": "3.11.1"
  }
 },
 "nbformat": 4,
 "nbformat_minor": 4
}
