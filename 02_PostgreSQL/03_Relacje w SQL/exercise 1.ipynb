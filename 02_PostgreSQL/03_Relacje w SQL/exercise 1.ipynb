{
 "cells": [
  {
   "cell_type": "markdown",
   "metadata": {},
   "source": [
    "# Relacje w SQL\n",
    "\n",
    "Napisz zapytania SQL, które:\n",
    "1. Połączą tabele `products` i `productlines` oraz wyświetlą wszystkie informacje z obu tabel,\n",
    "2. Połączą tabele `customers` i `employees`. Zobacz jakie informacje możesz wyczytać używając różnych rodzai połączeń: `LEFT JOIN`, `ROGHT JOIN` i `JOIN`. Czy są jakieś firmy, które nie mają przypisanego pracownika? Czy są jacyś pracownicy, którzy nie mają przypisanej do siebie firmy? Czy są pracownicy, którzy mają przypisaną więcej niż jedną firmę do siebie?\n",
    "3. Dowiedz się, czy wszyscy pracownicy są przypisanie do jakiegoś biura?"
   ]
  },
  {
   "cell_type": "code",
   "execution_count": null,
   "metadata": {},
   "outputs": [],
   "source": []
  }
 ],
 "metadata": {
  "kernelspec": {
   "display_name": "Python 3",
   "language": "python",
   "name": "python3"
  },
  "language_info": {
   "codemirror_mode": {
    "name": "ipython",
    "version": 3
   },
   "file_extension": ".py",
   "mimetype": "text/x-python",
   "name": "python",
   "nbconvert_exporter": "python",
   "pygments_lexer": "ipython3",
   "version": "3.8.6"
  }
 },
 "nbformat": 4,
 "nbformat_minor": 4
}
