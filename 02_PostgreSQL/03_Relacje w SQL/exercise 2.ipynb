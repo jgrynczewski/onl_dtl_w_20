{
 "cells": [
  {
   "cell_type": "markdown",
   "metadata": {},
   "source": [
    "# Relacje wiele do wielu\n",
    "\n",
    "Relacje wiele do wielu są najtrudniejszymi typami relacji - wymagają połączenia 3 tabel. W bazie danych `clasicmodels` najlepszym przykładem takiej relacji jest relacja pomiędzy tabelami `orders` i `products`. \n",
    "\n",
    "Opiszmy sobie tę relację:\n",
    "1. W jednym zamówieniu może być wiele produktów,\n",
    "2. Jeden produkt może być w wielu zamówieniach,\n",
    "\n",
    "Jako że \"czyste\" relacja wiele do wielu nie są możliwe do zaimplementowania w SQL, problem ten rozwiązujemy za pomocą tabeli łączącej, która jest w relacji jeden do wielu z naszymi oryginalnymi tablicami. W naszym przypadku wygląda to następująco:\n",
    "1. Została wprowadzona nowa tabela `orderdetail`,\n",
    "2. Tabela ta jest w relacji jeden do wielu z tabelami `orders` i `products`\n",
    "\n",
    "Spróbujmy napisać zapytanie SQL, które zwróci nam następujące informacje z bazy danych:\n",
    "* id zamówienia (tabela `orders`),\n",
    "* status zamówienia (tabela `orders`),\n",
    "* kod zamówionego produktu (tabela `orderdetails`),\n",
    "* ilość sztuk zamówionego produktu (tabela `orderdetails`),\n",
    "* nazwę zamówionego produktu (tabela `products`),\n",
    "\n",
    "Żeby uzyskać ten efekt:\n",
    "1. Napisz zapytanie SQL, które wyczyta id zamówienia i status zamówienia z tabelki `orders`,\n",
    "2. Zmodyfikuj tak powyższe zapytanie, żeby nastąpiło połączenie z tabelą `oderdetails` (interesuje nas tylko kod danego zamówienia),\n",
    "3. Zmodyfikuj tak powyższe zapytanie, żeby nastąpiło połączenie z tabelą `orderdetails` (i dodaj interesujące nas dane).\n"
   ]
  },
  {
   "cell_type": "code",
   "execution_count": null,
   "metadata": {},
   "outputs": [],
   "source": []
  }
 ],
 "metadata": {
  "kernelspec": {
   "display_name": "Python 3",
   "language": "python",
   "name": "python3"
  },
  "language_info": {
   "codemirror_mode": {
    "name": "ipython",
    "version": 3
   },
   "file_extension": ".py",
   "mimetype": "text/x-python",
   "name": "python",
   "nbconvert_exporter": "python",
   "pygments_lexer": "ipython3",
   "version": "3.8.6"
  }
 },
 "nbformat": 4,
 "nbformat_minor": 4
}
