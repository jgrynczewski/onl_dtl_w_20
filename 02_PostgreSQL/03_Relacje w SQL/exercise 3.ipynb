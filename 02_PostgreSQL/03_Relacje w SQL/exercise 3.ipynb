{
 "cells": [
  {
   "cell_type": "markdown",
   "metadata": {},
   "source": [
    "# Wczytywanie danych\n",
    "\n",
    "W pliku stwórz obiekt połączenia do bazy danych. Następnie wywołaj poniższe zapytania SQL oraz wyświetl za pomocą Pythona ich wyniki w zeszycie jupyter:\n",
    "1. Połączą tabele `products` i `productlines` oraz wyświetlą wszystkie informacje z obu tabel,\n",
    "2. Połączą tabele `customers` i `employees` oraz wyświetlą wszystkie informacje z obu tabel,\n",
    "3. Wyświetlą informacje o tym, jacy pracownicy są przypisani do którego biura,\n",
    "\n",
    "Zapytania są identyczne z zapytaniami z zadania 1 w tym temacie. "
   ]
  },
  {
   "cell_type": "code",
   "execution_count": null,
   "metadata": {},
   "outputs": [],
   "source": []
  }
 ],
 "metadata": {
  "kernelspec": {
   "display_name": "Python 3",
   "language": "python",
   "name": "python3"
  },
  "language_info": {
   "codemirror_mode": {
    "name": "ipython",
    "version": 3
   },
   "file_extension": ".py",
   "mimetype": "text/x-python",
   "name": "python",
   "nbconvert_exporter": "python",
   "pygments_lexer": "ipython3",
   "version": "3.8.6"
  }
 },
 "nbformat": 4,
 "nbformat_minor": 4
}
