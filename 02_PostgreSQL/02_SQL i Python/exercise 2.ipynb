{
 "cells": [
  {
   "cell_type": "markdown",
   "metadata": {},
   "source": [
    "# Zamiana danych\n",
    "\n",
    "Za pomocą pythona wylicz, jaka jest średnia cena zakupu (`buyPrice`) produktu. \n",
    "\n",
    "W tym celu:\n",
    "1. Stwórz obiekt połączenia z bazą danych,\n",
    "1. Odpytaj bazę danych o wszystkie produkty (zapytanie można zawęzić tylko do ceny zakupu),\n",
    "1. W pętli przeiteruj przez wszystkie wyniki oraz zsumuj je,\n",
    "1. Po zsumowaniu wszystkich wyników podziel je przez ilość zwróconych rzędów.\n",
    "\n",
    "Hint:\n",
    "Żeby uzyskać liczbę rzędów, które zostały zwrócone możesz użyć właściwości obiektu `courseor` o nazwie `rowcount`.\n",
    "```\n",
    "rows_count = my_coursor.rowcount\n",
    "```\n"
   ]
  },
  {
   "cell_type": "code",
   "execution_count": 15,
   "metadata": {},
   "outputs": [
    {
     "name": "stdout",
     "output_type": "stream",
     "text": [
      "54.4\n"
     ]
    }
   ],
   "source": [
    "from psycopg2 import connect\n",
    "\n",
    "\n",
    "stmt = \"SELECT buyprice FROM products\"\n",
    "with connect(user='postgres', password='postgres', database='classicmodels') as cnx:\n",
    "    with cnx.cursor() as cursor:\n",
    "        cursor.execute(stmt)\n",
    "        rows_count = cursor.rowcount\n",
    "        result = cursor.fetchall()\n",
    "\n",
    "\n",
    "sum_ = 0\n",
    "for item in result:\n",
    "    sum_ += item[0]\n",
    "\n",
    "\n",
    "avg = sum_/rows_count\n",
    "print(round(avg, 2))"
   ]
  }
 ],
 "metadata": {
  "kernelspec": {
   "display_name": "Python 3 (ipykernel)",
   "language": "python",
   "name": "python3"
  },
  "language_info": {
   "codemirror_mode": {
    "name": "ipython",
    "version": 3
   },
   "file_extension": ".py",
   "mimetype": "text/x-python",
   "name": "python",
   "nbconvert_exporter": "python",
   "pygments_lexer": "ipython3",
   "version": "3.11.1"
  }
 },
 "nbformat": 4,
 "nbformat_minor": 4
}
