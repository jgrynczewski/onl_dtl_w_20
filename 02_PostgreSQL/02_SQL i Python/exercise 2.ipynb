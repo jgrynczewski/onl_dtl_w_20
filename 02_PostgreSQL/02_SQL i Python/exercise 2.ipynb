{
 "cells": [
  {
   "cell_type": "markdown",
   "metadata": {},
   "source": [
    "# Zamiana danych\n",
    "\n",
    "Za pomocą pythona wylicz, jaka jest średnia cena zakupu (`buyPrice`) produktu. \n",
    "\n",
    "W tym celu:\n",
    "1. Stwórz obiekt połączenia z bazą danych,\n",
    "1. Odpytaj bazę danych o wszystkie produkty (zapytanie można zawęzić tylko do ceny zakupu),\n",
    "1. W pętli przeiteruj przez wszystkie wyniki oraz zsumuj je,\n",
    "1. Po zsumowaniu wszystkich wyników podziel je przez ilość zwróconych rzędów.\n",
    "\n",
    "Hint:\n",
    "Żeby uzyskać liczbę rzędów, które zostały zwrócone możesz użyć właściwości obiektu `courseor` o nazwie `rowcount`.\n",
    "```\n",
    "rows_count = my_coursor.rowcount\n",
    "```\n"
   ]
  },
  {
   "cell_type": "code",
   "execution_count": null,
   "metadata": {},
   "outputs": [],
   "source": []
  }
 ],
 "metadata": {
  "kernelspec": {
   "display_name": "Python 3",
   "language": "python",
   "name": "python3"
  },
  "language_info": {
   "codemirror_mode": {
    "name": "ipython",
    "version": 3
   },
   "file_extension": ".py",
   "mimetype": "text/x-python",
   "name": "python",
   "nbconvert_exporter": "python",
   "pygments_lexer": "ipython3",
   "version": "3.8.6"
  }
 },
 "nbformat": 4,
 "nbformat_minor": 4
}
