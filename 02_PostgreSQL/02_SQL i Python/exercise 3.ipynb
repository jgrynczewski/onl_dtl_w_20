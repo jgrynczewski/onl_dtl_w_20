{
 "cells": [
  {
   "cell_type": "markdown",
   "metadata": {},
   "source": [
    "# Min i maks\n",
    "\n",
    "Za pomocą pythona i SQL dowiedz się, jaki jest najdroższy i najtańszy (patrząc na kolumnę `MRSP` - Manufacturers Suggested Retail Price) produkt sprzedawany przez firmę. W tym celu:\n",
    "\n",
    "W tym celu:\n",
    "1. Stwórz obiekt połączenia z bazą danych,\n",
    "1. Stwórz zmienne, w których będą trzymane najwyższa i najniższa cena. Przypisz im wartości `0` (dla najwyższej ceny) i `math.inf` (dla najniższej ceny). Pamiętaj o zaimportowaniu modułu `math`,\n",
    "1. Odpytaj bazę danych o wszystkie produkty (zapytanie można zawęzić tylko do jednej kolumny),\n",
    "1. W pętli przeiteruj przez wszystkie wyniki oraz:\n",
    "    1. Jeżeli cena produktu jest mniejsza od zmiennej trzymającej najniższą cenę, to wpisz tę wartość do tej zmiennej,\n",
    "    1. Jeżeli cena produktu jest większa od zmiennej trzymającej najwyższą cenę, to wpisz tę wartość do tej zmiennej, \n",
    "    \n",
    "Na koniec skryptu wyświetl informacje o tych cenach.\n"
   ]
  },
  {
   "cell_type": "code",
   "execution_count": null,
   "metadata": {},
   "outputs": [],
   "source": []
  }
 ],
 "metadata": {
  "kernelspec": {
   "display_name": "Python 3 (ipykernel)",
   "language": "python",
   "name": "python3"
  },
  "language_info": {
   "codemirror_mode": {
    "name": "ipython",
    "version": 3
   },
   "file_extension": ".py",
   "mimetype": "text/x-python",
   "name": "python",
   "nbconvert_exporter": "python",
   "pygments_lexer": "ipython3",
   "version": "3.11.1"
  }
 },
 "nbformat": 4,
 "nbformat_minor": 4
}
