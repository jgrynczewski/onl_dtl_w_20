{
 "cells": [
  {
   "cell_type": "markdown",
   "metadata": {},
   "source": [
    "# Wczytywanie danych\n",
    "\n",
    "W pliku stwórz obiekt połączenia do bazy danych. Następnie wywołaj poniższe zapytania SQL oraz wyświetl za pomocą Pythona ich wyniki w zeszycie jupyter:\n",
    "1. Wyświetlą wszystkie produkty należące do linii produktowej `Motorcycles`;\n",
    "1. Wyświetlą wszystkie produkty, których jest więcej niż `1000` w magazynie i kosztowały mniej niż `20`pln.\n",
    "1. Wyświetlą wszystkie zamówienie (tabelka `orders`) wykonane w roku 2003.\n",
    "1. Wyświetlą wszystkie zamówienie (tabelka `orders`) wykonane w roku 2003, które zostały anulowane.\n",
    "\n",
    "Zapytania są identyczne z zapytaniami z zadania 1 w poprzednim temacie. \n",
    "\n"
   ]
  },
  {
   "cell_type": "code",
   "execution_count": null,
   "metadata": {},
   "outputs": [],
   "source": []
  }
 ],
 "metadata": {
  "kernelspec": {
   "display_name": "Python 3",
   "language": "python",
   "name": "python3"
  },
  "language_info": {
   "codemirror_mode": {
    "name": "ipython",
    "version": 3
   },
   "file_extension": ".py",
   "mimetype": "text/x-python",
   "name": "python",
   "nbconvert_exporter": "python",
   "pygments_lexer": "ipython3",
   "version": "3.8.6"
  }
 },
 "nbformat": 4,
 "nbformat_minor": 4
}
