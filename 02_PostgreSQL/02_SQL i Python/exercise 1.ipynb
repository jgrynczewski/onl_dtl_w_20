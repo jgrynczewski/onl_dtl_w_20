{
 "cells": [
  {
   "cell_type": "markdown",
   "metadata": {},
   "source": [
    "# Wczytywanie danych\n",
    "\n",
    "W pliku stwórz obiekt połączenia do bazy danych. Następnie wywołaj poniższe zapytania SQL oraz wyświetl za pomocą Pythona ich wyniki w zeszycie jupyter:\n",
    "1. Wyświetlą wszystkie produkty należące do linii produktowej `Motorcycles`;\n",
    "1. Wyświetlą wszystkie produkty, których jest więcej niż `1000` w magazynie i kosztowały mniej niż `20`pln.\n",
    "1. Wyświetlą wszystkie zamówienie (tabelka `orders`) wykonane w roku 2003.\n",
    "1. Wyświetlą wszystkie zamówienie (tabelka `orders`) wykonane w roku 2003, które zostały anulowane.\n",
    "\n",
    "Zapytania są identyczne z zapytaniami z zadania 1 w poprzednim temacie. \n",
    "\n"
   ]
  },
  {
   "cell_type": "code",
   "execution_count": 1,
   "metadata": {},
   "outputs": [
    {
     "name": "stdout",
     "output_type": "stream",
     "text": [
      "S10_1678 | 1969 Harley Davidson Ultimate Chopper | Motorcycles | 1:10 | Min Lin Diecast | This replica features working kickstand, front suspension, gear-shift lever, footbrake lever, drive chain, wheels and steering. All parts are particularly delicate due to their precise scale and require special care and attention. | 7933 | 48.81 | 95.7\n"
     ]
    }
   ],
   "source": [
    "from psycopg2 import connect\n",
    "\n",
    "\n",
    "cnx = connect(\n",
    "    user='postgres',\n",
    "    password='postgres',\n",
    "    database='classicmodels'\n",
    ")\n",
    "\n",
    "# wszystko na raz\n",
    "cursor = cnx.cursor()\n",
    "cursor.execute(\"SELECT * FROM products WHERE productline='Motorcycles';\")\n",
    "response = cursor.fetchall()\n",
    "\n",
    "# print(response)\n",
    "print(\" | \".join(str(item) for item in response[0]))"
   ]
  },
  {
   "cell_type": "code",
   "execution_count": 3,
   "metadata": {},
   "outputs": [
    {
     "name": "stdout",
     "output_type": "stream",
     "text": [
      "('S10_1678', '1969 Harley Davidson Ultimate Chopper', 'Motorcycles', '1:10', 'Min Lin Diecast', 'This replica features working kickstand, front suspension, gear-shift lever, footbrake lever, drive chain, wheels and steering. All parts are particularly delicate due to their precise scale and require special care and attention.', 7933, 48.81, 95.7)\n",
      "('S10_2016', '1996 Moto Guzzi 1100i', 'Motorcycles', '1:10', 'Highway 66 Mini Classics', 'Official Moto Guzzi logos and insignias, saddle bags located on side of motorcycle, detailed engine, working steering, working suspension, two leather seats, luggage rack, dual exhaust pipes, small saddle bag located on handle bars, two-tone paint with chrome accents, superior die-cast detail , rotating wheels , working kick stand, diecast metal with plastic parts and baked enamel finish.', 6625, 68.99, 118.94)\n",
      "('S10_4698', '2003 Harley-Davidson Eagle Drag Bike', 'Motorcycles', '1:10', 'Red Start Diecast', 'Model features, official Harley Davidson logos and insignias, detachable rear wheelie bar, heavy diecast metal with resin parts, authentic multi-color tampo-printed graphics, separate engine drive belts, free-turning front fork, rotating tires and rear racing slick, certificate of authenticity, detailed engine, display stand\\n, precision diecast replica, baked enamel finish, 1:10 scale model, removable fender, seat and tank cover piece for displaying the superior detail of the v-twin engine', 5582, 91.02, 193.66)\n",
      "('S12_2823', '2002 Suzuki XREO', 'Motorcycles', '1:12', 'Unimax Art Galleries', 'Official logos and insignias, saddle bags located on side of motorcycle, detailed engine, working steering, working suspension, two leather seats, luggage rack, dual exhaust pipes, small saddle bag located on handle bars, two-tone paint with chrome accents, superior die-cast detail , rotating wheels , working kick stand, diecast metal with plastic parts and baked enamel finish.', 9997, 66.27, 150.62)\n",
      "('S18_2625', '1936 Harley Davidson El Knucklehead', 'Motorcycles', '1:18', 'Welly Diecast Productions', 'Intricately detailed with chrome accents and trim, official die-struck logos and baked enamel finish.', 4357, 24.23, 60.57)\n",
      "('S18_3782', '1957 Vespa GS150', 'Motorcycles', '1:18', 'Studio M Art Models', 'Features rotating wheels , working kick stand. Comes with stand.', 7689, 32.95, 62.17)\n",
      "('S24_1578', '1997 BMW R 1100 S', 'Motorcycles', '1:24', 'Autoart Studio Design', 'Detailed scale replica with working suspension and constructed from over 70 parts', 7003, 60.86, 112.7)\n",
      "('S24_2000', '1960 BSA Gold Star DBD34', 'Motorcycles', '1:24', 'Highway 66 Mini Classics', 'Detailed scale replica with working suspension and constructed from over 70 parts', 15, 37.32, 76.17)\n",
      "('S24_2360', '1982 Ducati 900 Monster', 'Motorcycles', '1:24', 'Highway 66 Mini Classics', 'Features two-tone paint with chrome accents, superior die-cast detail , rotating wheels , working kick stand', 6840, 47.1, 69.26)\n",
      "('S32_1374', '1997 BMW F650 ST', 'Motorcycles', '1:32', 'Exoto Designs', 'Features official die-struck logos and baked enamel finish. Comes with stand.', 178, 66.92, 99.89)\n",
      "('S32_2206', '1982 Ducati 996 R', 'Motorcycles', '1:32', 'Gearbox Collectibles', 'Features rotating wheels , working kick stand. Comes with stand.', 9241, 24.14, 40.23)\n",
      "('S32_4485', '1974 Ducati 350 Mk3 Desmo', 'Motorcycles', '1:32', 'Second Gear Diecast', 'This model features two-tone paint with chrome accents, superior die-cast detail , rotating wheels , working kick stand', 3341, 56.13, 102.05)\n",
      "('S50_4713', '2002 Yamaha YZR M1', 'Motorcycles', '1:50', 'Autoart Studio Design', 'Features rotating wheels , working kick stand. Comes with stand.', 600, 34.17, 81.36)\n"
     ]
    }
   ],
   "source": [
    "# pojedynczo\n",
    "cursor = cnx.cursor()\n",
    "cursor.execute(\"SELECT * FROM products WHERE productline='Motorcycles';\")\n",
    "response = cursor.fetchone()\n",
    "while response:\n",
    "    print(response)\n",
    "    response = cursor.fetchone()"
   ]
  },
  {
   "cell_type": "code",
   "execution_count": 2,
   "metadata": {},
   "outputs": [
    {
     "name": "stdout",
     "output_type": "stream",
     "text": [
      "[('S10_1678', '1969 Harley Davidson Ultimate Chopper', 'Motorcycles', '1:10', 'Min Lin Diecast', 'This replica features working kickstand, front suspension, gear-shift lever, footbrake lever, drive chain, wheels and steering. All parts are particularly delicate due to their precise scale and require special care and attention.', 7933, 48.81, 95.7), ('S10_2016', '1996 Moto Guzzi 1100i', 'Motorcycles', '1:10', 'Highway 66 Mini Classics', 'Official Moto Guzzi logos and insignias, saddle bags located on side of motorcycle, detailed engine, working steering, working suspension, two leather seats, luggage rack, dual exhaust pipes, small saddle bag located on handle bars, two-tone paint with chrome accents, superior die-cast detail , rotating wheels , working kick stand, diecast metal with plastic parts and baked enamel finish.', 6625, 68.99, 118.94)]\n",
      "[('S10_4698', '2003 Harley-Davidson Eagle Drag Bike', 'Motorcycles', '1:10', 'Red Start Diecast', 'Model features, official Harley Davidson logos and insignias, detachable rear wheelie bar, heavy diecast metal with resin parts, authentic multi-color tampo-printed graphics, separate engine drive belts, free-turning front fork, rotating tires and rear racing slick, certificate of authenticity, detailed engine, display stand\\n, precision diecast replica, baked enamel finish, 1:10 scale model, removable fender, seat and tank cover piece for displaying the superior detail of the v-twin engine', 5582, 91.02, 193.66), ('S12_2823', '2002 Suzuki XREO', 'Motorcycles', '1:12', 'Unimax Art Galleries', 'Official logos and insignias, saddle bags located on side of motorcycle, detailed engine, working steering, working suspension, two leather seats, luggage rack, dual exhaust pipes, small saddle bag located on handle bars, two-tone paint with chrome accents, superior die-cast detail , rotating wheels , working kick stand, diecast metal with plastic parts and baked enamel finish.', 9997, 66.27, 150.62)]\n",
      "[('S18_2625', '1936 Harley Davidson El Knucklehead', 'Motorcycles', '1:18', 'Welly Diecast Productions', 'Intricately detailed with chrome accents and trim, official die-struck logos and baked enamel finish.', 4357, 24.23, 60.57), ('S18_3782', '1957 Vespa GS150', 'Motorcycles', '1:18', 'Studio M Art Models', 'Features rotating wheels , working kick stand. Comes with stand.', 7689, 32.95, 62.17)]\n",
      "[('S24_1578', '1997 BMW R 1100 S', 'Motorcycles', '1:24', 'Autoart Studio Design', 'Detailed scale replica with working suspension and constructed from over 70 parts', 7003, 60.86, 112.7), ('S24_2000', '1960 BSA Gold Star DBD34', 'Motorcycles', '1:24', 'Highway 66 Mini Classics', 'Detailed scale replica with working suspension and constructed from over 70 parts', 15, 37.32, 76.17)]\n",
      "[('S24_2360', '1982 Ducati 900 Monster', 'Motorcycles', '1:24', 'Highway 66 Mini Classics', 'Features two-tone paint with chrome accents, superior die-cast detail , rotating wheels , working kick stand', 6840, 47.1, 69.26), ('S32_1374', '1997 BMW F650 ST', 'Motorcycles', '1:32', 'Exoto Designs', 'Features official die-struck logos and baked enamel finish. Comes with stand.', 178, 66.92, 99.89)]\n",
      "[('S32_2206', '1982 Ducati 996 R', 'Motorcycles', '1:32', 'Gearbox Collectibles', 'Features rotating wheels , working kick stand. Comes with stand.', 9241, 24.14, 40.23), ('S32_4485', '1974 Ducati 350 Mk3 Desmo', 'Motorcycles', '1:32', 'Second Gear Diecast', 'This model features two-tone paint with chrome accents, superior die-cast detail , rotating wheels , working kick stand', 3341, 56.13, 102.05)]\n",
      "[('S50_4713', '2002 Yamaha YZR M1', 'Motorcycles', '1:50', 'Autoart Studio Design', 'Features rotating wheels , working kick stand. Comes with stand.', 600, 34.17, 81.36)]\n"
     ]
    }
   ],
   "source": [
    "# batchami\n",
    "cursor = cnx.cursor()\n",
    "cursor.execute(\"SELECT * FROM products WHERE productline='Motorcycles';\")\n",
    "response = cursor.fetchmany(2)\n",
    "while response:\n",
    "    print(response)\n",
    "    response = cursor.fetchmany(2)"
   ]
  },
  {
   "cell_type": "code",
   "execution_count": 4,
   "metadata": {},
   "outputs": [
    {
     "name": "stdout",
     "output_type": "stream",
     "text": [
      "[RealDictRow([('productcode', 'S10_1678'), ('productname', '1969 Harley Davidson Ultimate Chopper'), ('productline', 'Motorcycles'), ('productscale', '1:10'), ('productvendor', 'Min Lin Diecast'), ('productdescription', 'This replica features working kickstand, front suspension, gear-shift lever, footbrake lever, drive chain, wheels and steering. All parts are particularly delicate due to their precise scale and require special care and attention.'), ('quantityinstock', 7933), ('buyprice', 48.81), ('msrp', 95.7)]), RealDictRow([('productcode', 'S10_2016'), ('productname', '1996 Moto Guzzi 1100i'), ('productline', 'Motorcycles'), ('productscale', '1:10'), ('productvendor', 'Highway 66 Mini Classics'), ('productdescription', 'Official Moto Guzzi logos and insignias, saddle bags located on side of motorcycle, detailed engine, working steering, working suspension, two leather seats, luggage rack, dual exhaust pipes, small saddle bag located on handle bars, two-tone paint with chrome accents, superior die-cast detail , rotating wheels , working kick stand, diecast metal with plastic parts and baked enamel finish.'), ('quantityinstock', 6625), ('buyprice', 68.99), ('msrp', 118.94)]), RealDictRow([('productcode', 'S10_4698'), ('productname', '2003 Harley-Davidson Eagle Drag Bike'), ('productline', 'Motorcycles'), ('productscale', '1:10'), ('productvendor', 'Red Start Diecast'), ('productdescription', 'Model features, official Harley Davidson logos and insignias, detachable rear wheelie bar, heavy diecast metal with resin parts, authentic multi-color tampo-printed graphics, separate engine drive belts, free-turning front fork, rotating tires and rear racing slick, certificate of authenticity, detailed engine, display stand\\n, precision diecast replica, baked enamel finish, 1:10 scale model, removable fender, seat and tank cover piece for displaying the superior detail of the v-twin engine'), ('quantityinstock', 5582), ('buyprice', 91.02), ('msrp', 193.66)]), RealDictRow([('productcode', 'S12_2823'), ('productname', '2002 Suzuki XREO'), ('productline', 'Motorcycles'), ('productscale', '1:12'), ('productvendor', 'Unimax Art Galleries'), ('productdescription', 'Official logos and insignias, saddle bags located on side of motorcycle, detailed engine, working steering, working suspension, two leather seats, luggage rack, dual exhaust pipes, small saddle bag located on handle bars, two-tone paint with chrome accents, superior die-cast detail , rotating wheels , working kick stand, diecast metal with plastic parts and baked enamel finish.'), ('quantityinstock', 9997), ('buyprice', 66.27), ('msrp', 150.62)]), RealDictRow([('productcode', 'S18_2625'), ('productname', '1936 Harley Davidson El Knucklehead'), ('productline', 'Motorcycles'), ('productscale', '1:18'), ('productvendor', 'Welly Diecast Productions'), ('productdescription', 'Intricately detailed with chrome accents and trim, official die-struck logos and baked enamel finish.'), ('quantityinstock', 4357), ('buyprice', 24.23), ('msrp', 60.57)]), RealDictRow([('productcode', 'S18_3782'), ('productname', '1957 Vespa GS150'), ('productline', 'Motorcycles'), ('productscale', '1:18'), ('productvendor', 'Studio M Art Models'), ('productdescription', 'Features rotating wheels , working kick stand. Comes with stand.'), ('quantityinstock', 7689), ('buyprice', 32.95), ('msrp', 62.17)]), RealDictRow([('productcode', 'S24_1578'), ('productname', '1997 BMW R 1100 S'), ('productline', 'Motorcycles'), ('productscale', '1:24'), ('productvendor', 'Autoart Studio Design'), ('productdescription', 'Detailed scale replica with working suspension and constructed from over 70 parts'), ('quantityinstock', 7003), ('buyprice', 60.86), ('msrp', 112.7)]), RealDictRow([('productcode', 'S24_2000'), ('productname', '1960 BSA Gold Star DBD34'), ('productline', 'Motorcycles'), ('productscale', '1:24'), ('productvendor', 'Highway 66 Mini Classics'), ('productdescription', 'Detailed scale replica with working suspension and constructed from over 70 parts'), ('quantityinstock', 15), ('buyprice', 37.32), ('msrp', 76.17)]), RealDictRow([('productcode', 'S24_2360'), ('productname', '1982 Ducati 900 Monster'), ('productline', 'Motorcycles'), ('productscale', '1:24'), ('productvendor', 'Highway 66 Mini Classics'), ('productdescription', 'Features two-tone paint with chrome accents, superior die-cast detail , rotating wheels , working kick stand'), ('quantityinstock', 6840), ('buyprice', 47.1), ('msrp', 69.26)]), RealDictRow([('productcode', 'S32_1374'), ('productname', '1997 BMW F650 ST'), ('productline', 'Motorcycles'), ('productscale', '1:32'), ('productvendor', 'Exoto Designs'), ('productdescription', 'Features official die-struck logos and baked enamel finish. Comes with stand.'), ('quantityinstock', 178), ('buyprice', 66.92), ('msrp', 99.89)]), RealDictRow([('productcode', 'S32_2206'), ('productname', '1982 Ducati 996 R'), ('productline', 'Motorcycles'), ('productscale', '1:32'), ('productvendor', 'Gearbox Collectibles'), ('productdescription', 'Features rotating wheels , working kick stand. Comes with stand.'), ('quantityinstock', 9241), ('buyprice', 24.14), ('msrp', 40.23)]), RealDictRow([('productcode', 'S32_4485'), ('productname', '1974 Ducati 350 Mk3 Desmo'), ('productline', 'Motorcycles'), ('productscale', '1:32'), ('productvendor', 'Second Gear Diecast'), ('productdescription', 'This model features two-tone paint with chrome accents, superior die-cast detail , rotating wheels , working kick stand'), ('quantityinstock', 3341), ('buyprice', 56.13), ('msrp', 102.05)]), RealDictRow([('productcode', 'S50_4713'), ('productname', '2002 Yamaha YZR M1'), ('productline', 'Motorcycles'), ('productscale', '1:50'), ('productvendor', 'Autoart Studio Design'), ('productdescription', 'Features rotating wheels , working kick stand. Comes with stand.'), ('quantityinstock', 600), ('buyprice', 34.17), ('msrp', 81.36)])]\n"
     ]
    }
   ],
   "source": [
    "# odpowiedź w formacie słownika\n",
    "from psycopg2.extras import RealDictCursor\n",
    "\n",
    "\n",
    "cursor = cnx.cursor(cursor_factory=RealDictCursor)\n",
    "cursor.execute(\"SELECT * FROM products WHERE productline='Motorcycles';\")\n",
    "response = cursor.fetchall()\n",
    "\n",
    "print(response)"
   ]
  },
  {
   "cell_type": "code",
   "execution_count": 5,
   "metadata": {},
   "outputs": [
    {
     "name": "stdout",
     "output_type": "stream",
     "text": [
      "S10_1678 | 1969 Harley Davidson Ultimate Chopper | Motorcycles | 1:10 | Min Lin Diecast | This replica features working kickstand, front suspension, gear-shift lever, footbrake lever, drive chain, wheels and steering. All parts are particularly delicate due to their precise scale and require special care and attention. | 7933 | 48.81 | 95.7\n"
     ]
    }
   ],
   "source": [
    "from psycopg2 import connect\n",
    "\n",
    "\n",
    "cnx = connect(\n",
    "    user='postgres',\n",
    "    password='postgres',\n",
    "    database='classicmodels'\n",
    ")\n",
    "\n",
    "cursor = cnx.cursor()\n",
    "cursor.execute(\"SELECT * FROM products WHERE productline='Motorcycles';\")\n",
    "response = cursor.fetchall()\n",
    "\n",
    "print(\" | \".join(str(item) for item in response[0]))\n",
    "\n",
    "cursor.close()\n",
    "cnx.close()"
   ]
  },
  {
   "cell_type": "code",
   "execution_count": 7,
   "metadata": {},
   "outputs": [
    {
     "name": "stdout",
     "output_type": "stream",
     "text": [
      "('S10_1678', '1969 Harley Davidson Ultimate Chopper', 'Motorcycles', '1:10', 'Min Lin Diecast', 'This replica features working kickstand, front suspension, gear-shift lever, footbrake lever, drive chain, wheels and steering. All parts are particularly delicate due to their precise scale and require special care and attention.', 7933, 48.81, 95.7)\n"
     ]
    }
   ],
   "source": [
    "# Obiekt klasy connection i obiekt klasy cursor jako menadżer kontekstu\n",
    "\n",
    "with connect(user='postgres',password='postgres', database='classicmodels') as cnx:\n",
    "    with cnx.cursor() as cursor:\n",
    "        cursor.execute(\"SELECT * FROM products WHERE productline='Motorcycles';\")\n",
    "        result = cursor.fetchone()\n",
    "\n",
    "print(result)"
   ]
  },
  {
   "cell_type": "code",
   "execution_count": 9,
   "metadata": {},
   "outputs": [
    {
     "name": "stdout",
     "output_type": "stream",
     "text": [
      "('1969 Harley Davidson Ultimate Chopper',)\n",
      "('1996 Moto Guzzi 1100i',)\n",
      "('2003 Harley-Davidson Eagle Drag Bike',)\n",
      "('2002 Suzuki XREO',)\n",
      "('1936 Harley Davidson El Knucklehead',)\n",
      "('1957 Vespa GS150',)\n",
      "('1997 BMW R 1100 S',)\n",
      "('1960 BSA Gold Star DBD34',)\n",
      "('1982 Ducati 900 Monster',)\n",
      "('1997 BMW F650 ST',)\n",
      "('1982 Ducati 996 R',)\n",
      "('1974 Ducati 350 Mk3 Desmo',)\n",
      "('2002 Yamaha YZR M1',)\n"
     ]
    }
   ],
   "source": [
    "# cursor jako iterator\n",
    "with connect(user='postgres',password='postgres', database='classicmodels') as cnx:\n",
    "    with cnx.cursor() as cursor:\n",
    "        cursor.execute(\"SELECT productname FROM products WHERE productline='Motorcycles';\")\n",
    "        \n",
    "        for row in cursor:\n",
    "            print(row)\n"
   ]
  }
 ],
 "metadata": {
  "kernelspec": {
   "display_name": "Python 3 (ipykernel)",
   "language": "python",
   "name": "python3"
  },
  "language_info": {
   "codemirror_mode": {
    "name": "ipython",
    "version": 3
   },
   "file_extension": ".py",
   "mimetype": "text/x-python",
   "name": "python",
   "nbconvert_exporter": "python",
   "pygments_lexer": "ipython3",
   "version": "3.11.1"
  }
 },
 "nbformat": 4,
 "nbformat_minor": 4
}
