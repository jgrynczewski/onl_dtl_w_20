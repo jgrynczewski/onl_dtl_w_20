{
 "cells": [
  {
   "cell_type": "markdown",
   "metadata": {},
   "source": [
    "# Funkcje agregujące w relacjach\n",
    "\n",
    "Funkcje agregujące można też wykorzystywać razem z relacjami. Na przykład, jeżeli chcemy się dowiedzieć o ilości zamówionych przedmiotów z każdej linii produkcyjnej, możemy napisać następujące zapytanie SQL:\n",
    "```sql\n",
    "SELECT productlines.productLine, sum(quantityOrdered) from productlines\n",
    "JOIN products ON products.productline = productlines.productline\n",
    "JOIN orderdetails ON orderdetails.productcode = products.productcode\n",
    "GROUP BY productlines.productline\n",
    "```\n",
    "\n",
    "Bazując na tym zapytaniu, dowiedz się:\n",
    "1. Jaka jest łączna kwota zamówień dla każdej z linii produkcyjnych (`sum(quantityordered * priceEach)`)?\n",
    "2. Jaka jest suma płatności wykonanych przez każdą firmę (zapytanie ma zwracać też nazwę tej firmy)?\n",
    "3. Ile łącznie przedmiotów zamówiła każda z firm?"
   ]
  },
  {
   "cell_type": "code",
   "execution_count": null,
   "metadata": {},
   "outputs": [],
   "source": []
  }
 ],
 "metadata": {
  "kernelspec": {
   "display_name": "Python 3",
   "language": "python",
   "name": "python3"
  },
  "language_info": {
   "codemirror_mode": {
    "name": "ipython",
    "version": 3
   },
   "file_extension": ".py",
   "mimetype": "text/x-python",
   "name": "python",
   "nbconvert_exporter": "python",
   "pygments_lexer": "ipython3",
   "version": "3.8.6"
  }
 },
 "nbformat": 4,
 "nbformat_minor": 4
}
