{
 "cells": [
  {
   "cell_type": "markdown",
   "metadata": {},
   "source": [
    "# Funkcje agregujące w relacjach\n",
    "\n",
    "Funkcje agregujące można też wykorzystywać razem z relacjami. Na przykład, jeżeli chcemy się dowiedzieć o ilości zamówionych przedmiotów z każdej linii produkcyjnej, możemy napisać następujące zapytanie SQL:\n",
    "```sql\n",
    "SELECT productlines.productLine, sum(quantityOrdered) from productlines\n",
    "JOIN products ON products.productline = productlines.productline\n",
    "JOIN orderdetails ON orderdetails.productcode = products.productcode\n",
    "GROUP BY productlines.productline\n",
    "```\n",
    "\n",
    "Bazując na tym zapytaniu, dowiedz się:\n",
    "1. Jaka jest łączna kwota zamówień dla każdej z linii produkcyjnych (`sum(quantityordered * priceEach)`)?\n",
    "2. Jaka jest suma płatności wykonanych przez każdą firmę (zapytanie ma zwracać też nazwę tej firmy)?\n",
    "3. Ile łącznie przedmiotów zamówiła każda z firm?"
   ]
  },
  {
   "cell_type": "markdown",
   "metadata": {},
   "source": [
    "1. <code>SELECT productlines.productLine, SUM(quantityOrdered*priceeach) FROM productlines\n",
    "JOIN products ON products.productline = productlines.productline\n",
    "JOIN orderdetails ON orderdetails.productcode = products.productcode\n",
    "GROUP BY productlines.productline;</code>\n",
    "\n",
    "\n",
    "2. <code>SELECT customers.customername, SUM(payments.amount) FROM payments \n",
    "JOIN customers ON payments.customernumber=customers.customernumber \n",
    "GROUP BY customers.customername;</code>\n",
    "\n",
    "\n",
    "3. <code>SELECT customers.customername, COUNT(orderdetails.quantityordered) FROM orderdetails \n",
    "JOIN orders ON orderdetails.ordernumber=orders.ordernumber \n",
    "JOIN customers ON customers.customernumber=orders.customernumber \n",
    "GROUP BY customers.customername;</code>"
   ]
  }
 ],
 "metadata": {
  "kernelspec": {
   "display_name": "Python 3 (ipykernel)",
   "language": "python",
   "name": "python3"
  },
  "language_info": {
   "codemirror_mode": {
    "name": "ipython",
    "version": 3
   },
   "file_extension": ".py",
   "mimetype": "text/x-python",
   "name": "python",
   "nbconvert_exporter": "python",
   "pygments_lexer": "ipython3",
   "version": "3.11.1"
  }
 },
 "nbformat": 4,
 "nbformat_minor": 4
}
