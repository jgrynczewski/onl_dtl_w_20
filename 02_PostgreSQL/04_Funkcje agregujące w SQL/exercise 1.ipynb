{
 "cells": [
  {
   "cell_type": "markdown",
   "metadata": {},
   "source": [
    "# Group by\n",
    "\n",
    "Uruchom następujące zapytanie SQL na swojej bazie:\n",
    "```sql\n",
    "select * from products GROUP by productline\n",
    "```\n",
    "\n",
    "Czy rozumiesz jaki błąd został zwrócony przez bazę danych?\n",
    "\n",
    "Teraz spróbuj uruchomić następujące zapytanie SQL na swojej bazie:\n",
    "```sql\n",
    "select count(*) from products GROUP by productline; \n",
    "```\n",
    "\n",
    "Czy teraz zapytanie działa prawidłowo? Dlaczego? Jakie informacje można z niego wyczytać? Jakie jeszcze kolumny byłyby przydatne, żeby zapytanie dało nam więcej informacji?"
   ]
  },
  {
   "cell_type": "code",
   "execution_count": null,
   "metadata": {},
   "outputs": [],
   "source": []
  }
 ],
 "metadata": {
  "kernelspec": {
   "display_name": "Python 3",
   "language": "python",
   "name": "python3"
  },
  "language_info": {
   "codemirror_mode": {
    "name": "ipython",
    "version": 3
   },
   "file_extension": ".py",
   "mimetype": "text/x-python",
   "name": "python",
   "nbconvert_exporter": "python",
   "pygments_lexer": "ipython3",
   "version": "3.8.6"
  }
 },
 "nbformat": 4,
 "nbformat_minor": 4
}
