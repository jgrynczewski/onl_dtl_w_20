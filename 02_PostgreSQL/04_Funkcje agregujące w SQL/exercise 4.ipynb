{
 "cells": [
  {
   "cell_type": "markdown",
   "metadata": {},
   "source": [
    "# Wielokrotne grupowanie\n",
    "\n",
    "Możliwe jest też grupowanie po wielu kolumnach. Wynik zawsze będzie grupowany z w tej kolejności, w której są wpisane kolumny (od lewej do prawej).\n",
    "\n",
    "Na przykład, jeżeli chcemy się dowiedzieć ile zamówień w każdym statusie jest przypisanych do każdej firmy, możemy stworzyć zapytanie SQL:\n",
    "```sql\n",
    "SELECT customerName, status, count(status) FROM customers\n",
    "JOIN orders ON orders.customernumber = customers.customernumber\n",
    "GROUP BY customername, status\n",
    "ORDER BY customername;\n",
    "```\n",
    "\n",
    "Bazując na tym zapytaniu, dowiedz się:\n",
    "1. Ile pracowników o danym `jobtitle` jest w każdym biurze."
   ]
  },
  {
   "cell_type": "code",
   "execution_count": null,
   "metadata": {},
   "outputs": [],
   "source": []
  }
 ],
 "metadata": {
  "kernelspec": {
   "display_name": "Python 3",
   "language": "python",
   "name": "python3"
  },
  "language_info": {
   "codemirror_mode": {
    "name": "ipython",
    "version": 3
   },
   "file_extension": ".py",
   "mimetype": "text/x-python",
   "name": "python",
   "nbconvert_exporter": "python",
   "pygments_lexer": "ipython3",
   "version": "3.8.6"
  }
 },
 "nbformat": 4,
 "nbformat_minor": 4
}
