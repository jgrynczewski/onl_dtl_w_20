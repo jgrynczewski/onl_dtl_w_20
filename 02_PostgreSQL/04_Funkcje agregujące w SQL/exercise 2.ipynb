{
 "cells": [
  {
   "cell_type": "markdown",
   "metadata": {},
   "source": [
    "# Funkcje agregujące w SQL\n",
    "\n",
    "Dowiedz się następujących informacji z bazy danych:\n",
    "1. Jaka jest wielkość każdego zamówienie (przez wielkość rozumiemy ilość stuk wszystkich produktów w tym zamówieniu)?\n",
    "2. Jaka jest łączna kwota każdego zamówienia?\n",
    "3. Ile jest produktów dla każdej linii produktowej?\n",
    "4. Jaka jest średnia sugerowana cena sprzedaży (`MSRP`) dla każdej linii produktowej?\n",
    "5. Ilu klientów jest z każdego kraju?\n",
    "6. Jaki jest najmniejszy i największy limit kredytowy firmy z danego każdego kraju?\n",
    "\n",
    "\n",
    "Podpowiedź:\n",
    "1. W punkcie 2 kwotę do zamówienia możemy policzyć za pomocą `sum(quantityordered * priceEach)`. Taki kod najpierw przemnoży `quantityordered` i `priceEach` dla każdego rzędu, a potem je zsumuje.\n"
   ]
  },
  {
   "cell_type": "code",
   "execution_count": null,
   "metadata": {},
   "outputs": [],
   "source": []
  }
 ],
 "metadata": {
  "kernelspec": {
   "display_name": "Python 3",
   "language": "python",
   "name": "python3"
  },
  "language_info": {
   "codemirror_mode": {
    "name": "ipython",
    "version": 3
   },
   "file_extension": ".py",
   "mimetype": "text/x-python",
   "name": "python",
   "nbconvert_exporter": "python",
   "pygments_lexer": "ipython3",
   "version": "3.8.6"
  }
 },
 "nbformat": 4,
 "nbformat_minor": 4
}
