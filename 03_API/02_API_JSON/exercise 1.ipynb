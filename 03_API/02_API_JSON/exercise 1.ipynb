{
 "cells": [
  {
   "cell_type": "markdown",
   "metadata": {},
   "source": [
    "# Zadanie 1\n",
    "\n",
    "Za pomocą biblioteki `requests` pobierz aktualne kursy walut zwracane przez API pod adresem [http://api.nbp.pl/api/exchangerates/tables/a/](http://api.nbp.pl/api/exchangerates/tables/a/), oraz wyświetl je jeden pod drugim, w postaci:\n",
    "\n",
    "```\n",
    "AUD (dolar australijski): 2.8571 PLN\n",
    "USD (dolar amerykański): 3.8849 PLN\n",
    "```\n",
    "\n",
    "Czasami API potrafi zwracać bardzo skomplikowane dane. W tym przypadku endpoint zwraca tabelkę. Przykładowe dane (w przykładzie nie pokazujemy wszystkich walut):\n",
    "```\n",
    "[\n",
    "    {\n",
    "        \"effectiveDate\": \"2021-07-28\",\n",
    "        \"no\": \"144/A/NBP/2021\",\n",
    "        \"rates\": [\n",
    "            {\n",
    "                \"code\": \"THB\",\n",
    "                \"currency\": \"bat (Tajlandia)\",\n",
    "                \"mid\": 0.1182\n",
    "            },\n",
    "            {\n",
    "                \"code\": \"XDR\",\n",
    "                \"currency\": \"SDR (MFW)\",\n",
    "                \"mid\": 5.5302\n",
    "            }\n",
    "        ],\n",
    "        \"table\": \"A\"\n",
    "    }\n",
    "]\n",
    "``` \n",
    "\n",
    "Żeby przeanalizować dane zwrócone z endpointu w łatwy sposób możesz użyć następującego kawałka kodu:\n",
    "```\n",
    "import json\n",
    "import requests\n",
    "\n",
    "response = requests.get('http://api.nbp.pl/api/exchangerates/tables/a/')\n",
    "data = response.json()\n",
    "\n",
    "print(json.dumps(data, indent=4, sort_keys=True))\n",
    "```"
   ]
  }
 ],
 "metadata": {
  "kernelspec": {
   "display_name": "Python 3",
   "language": "python",
   "name": "python3"
  },
  "language_info": {
   "codemirror_mode": {
    "name": "ipython",
    "version": 3
   },
   "file_extension": ".py",
   "mimetype": "text/x-python",
   "name": "python",
   "nbconvert_exporter": "python",
   "pygments_lexer": "ipython3",
   "version": "3.8.10"
  }
 },
 "nbformat": 4,
 "nbformat_minor": 4
}
