{
 "cells": [
  {
   "cell_type": "markdown",
   "metadata": {},
   "source": [
    "# Zadanie 1\n",
    "\n",
    "Za pomocą biblioteki `requests` pobierz aktualne kursy walut zwracane przez API pod adresem [http://api.nbp.pl/api/exchangerates/tables/a/](http://api.nbp.pl/api/exchangerates/tables/a/), oraz wyświetl je jeden pod drugim, w postaci:\n",
    "\n",
    "```\n",
    "AUD (dolar australijski): 2.8571 PLN\n",
    "USD (dolar amerykański): 3.8849 PLN\n",
    "```\n",
    "\n",
    "Czasami API potrafi zwracać bardzo skomplikowane dane. W tym przypadku endpoint zwraca tabelkę. Przykładowe dane (w przykładzie nie pokazujemy wszystkich walut):\n",
    "```\n",
    "[\n",
    "    {\n",
    "        \"effectiveDate\": \"2021-07-28\",\n",
    "        \"no\": \"144/A/NBP/2021\",\n",
    "        \"rates\": [\n",
    "            {\n",
    "                \"code\": \"THB\",\n",
    "                \"currency\": \"bat (Tajlandia)\",\n",
    "                \"mid\": 0.1182\n",
    "            },\n",
    "            {\n",
    "                \"code\": \"XDR\",\n",
    "                \"currency\": \"SDR (MFW)\",\n",
    "                \"mid\": 5.5302\n",
    "            }\n",
    "        ],\n",
    "        \"table\": \"A\"\n",
    "    }\n",
    "]\n",
    "``` \n",
    "\n",
    "Żeby przeanalizować dane zwrócone z endpointu w łatwy sposób możesz użyć następującego kawałka kodu:\n",
    "```\n",
    "import json\n",
    "import requests\n",
    "\n",
    "response = requests.get('http://api.nbp.pl/api/exchangerates/tables/a/')\n",
    "data = response.json()\n",
    "\n",
    "print(json.dumps(data, indent=4, sort_keys=True))\n",
    "```"
   ]
  },
  {
   "cell_type": "code",
   "execution_count": 11,
   "metadata": {},
   "outputs": [
    {
     "name": "stdout",
     "output_type": "stream",
     "text": [
      "[{'table': 'A', 'no': '083/A/NBP/2024', 'effectiveDate': '2024-04-26', 'rates': [{'currency': 'bat (Tajlandia)', 'code': 'THB', 'mid': 0.109}, {'currency': 'dolar amerykański', 'code': 'USD', 'mid': 4.0245}, {'currency': 'dolar australijski', 'code': 'AUD', 'mid': 2.6353}, {'currency': 'dolar Hongkongu', 'code': 'HKD', 'mid': 0.5141}, {'currency': 'dolar kanadyjski', 'code': 'CAD', 'mid': 2.9492}, {'currency': 'dolar nowozelandzki', 'code': 'NZD', 'mid': 2.3989}, {'currency': 'dolar singapurski', 'code': 'SGD', 'mid': 2.9598}, {'currency': 'euro', 'code': 'EUR', 'mid': 4.3225}, {'currency': 'forint (Węgry)', 'code': 'HUF', 'mid': 0.011002}, {'currency': 'frank szwajcarski', 'code': 'CHF', 'mid': 4.4145}, {'currency': 'funt szterling', 'code': 'GBP', 'mid': 5.0414}, {'currency': 'hrywna (Ukraina)', 'code': 'UAH', 'mid': 0.1016}, {'currency': 'jen (Japonia)', 'code': 'JPY', 'mid': 0.025711}, {'currency': 'korona czeska', 'code': 'CZK', 'mid': 0.1719}, {'currency': 'korona duńska', 'code': 'DKK', 'mid': 0.5796}, {'currency': 'korona islandzka', 'code': 'ISK', 'mid': 0.028797}, {'currency': 'korona norweska', 'code': 'NOK', 'mid': 0.3669}, {'currency': 'korona szwedzka', 'code': 'SEK', 'mid': 0.3703}, {'currency': 'lej rumuński', 'code': 'RON', 'mid': 0.8685}, {'currency': 'lew (Bułgaria)', 'code': 'BGN', 'mid': 2.21}, {'currency': 'lira turecka', 'code': 'TRY', 'mid': 0.1239}, {'currency': 'nowy izraelski szekel', 'code': 'ILS', 'mid': 1.054}, {'currency': 'peso chilijskie', 'code': 'CLP', 'mid': 0.004238}, {'currency': 'peso filipińskie', 'code': 'PHP', 'mid': 0.0698}, {'currency': 'peso meksykańskie', 'code': 'MXN', 'mid': 0.2334}, {'currency': 'rand (Republika Południowej Afryki)', 'code': 'ZAR', 'mid': 0.2121}, {'currency': 'real (Brazylia)', 'code': 'BRL', 'mid': 0.78}, {'currency': 'ringgit (Malezja)', 'code': 'MYR', 'mid': 0.8441}, {'currency': 'rupia indonezyjska', 'code': 'IDR', 'mid': 0.00024826}, {'currency': 'rupia indyjska', 'code': 'INR', 'mid': 0.0483}, {'currency': 'won południowokoreański', 'code': 'KRW', 'mid': 0.002925}, {'currency': 'yuan renminbi (Chiny)', 'code': 'CNY', 'mid': 0.5554}, {'currency': 'SDR (MFW)', 'code': 'XDR', 'mid': 5.3143}]}]\n"
     ]
    }
   ],
   "source": [
    "import json\n",
    "import requests\n",
    "\n",
    "url = \"https://api.nbp.pl/api/exchangerates/tables/a/\"\n",
    "response = requests.get(url)\n",
    "\n",
    "# możemy tak\n",
    "# text: str = response.content\n",
    "# # deserializacja z formatu json\n",
    "# data: dict = json.loads(text)\n",
    "\n",
    "# ale można od razu do jsona\n",
    "data = response.json()\n",
    "\n",
    "print(data)"
   ]
  }
 ],
 "metadata": {
  "kernelspec": {
   "display_name": "Python 3 (ipykernel)",
   "language": "python",
   "name": "python3"
  },
  "language_info": {
   "codemirror_mode": {
    "name": "ipython",
    "version": 3
   },
   "file_extension": ".py",
   "mimetype": "text/x-python",
   "name": "python",
   "nbconvert_exporter": "python",
   "pygments_lexer": "ipython3",
   "version": "3.11.1"
  }
 },
 "nbformat": 4,
 "nbformat_minor": 4
}
