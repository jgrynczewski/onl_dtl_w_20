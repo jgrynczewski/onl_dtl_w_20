{
 "cells": [
  {
   "cell_type": "markdown",
   "metadata": {},
   "source": [
    "# Zadanie 3\n",
    "\n",
    "Zapoznaj się z dokumentacją API [https://www.boredapi.com/documentation](boredapi.com). Jest to API, które sugeruje losowo wybraną aktywność, którą możesz się zająć aby zabić nudę. Znajdź w niej informację o tym, jak filtrować zwracane aktywności na podstawie ilości uczestników.\n",
    "\n",
    "Za pomocą funkcji `input(...)` zapytaj użytkownia o to, z iloma znajomymi chce się spotkać.\n",
    "\n",
    "Za pomocą biblioteki `requests` wykonaj zapytanie do API (pamiętaj o filtrze `participants`), i wyświetl sugerowaną aktywność.\n",
    "\n",
    "Pamiętaj, że podając w zapytaniu liczbę osób, oprócz liczby znajomych trzeba uwzględnić także samego użytkownika skryptu! "
   ]
  },
  {
   "cell_type": "code",
   "execution_count": 8,
   "metadata": {},
   "outputs": [
    {
     "name": "stdin",
     "output_type": "stream",
     "text": [
      "Z iloma przyjaciółmi chcesz coś zrobić?  1\n"
     ]
    },
    {
     "name": "stdout",
     "output_type": "stream",
     "text": [
      "Cook something together with someone\n"
     ]
    }
   ],
   "source": [
    "import requests\n",
    "\n",
    "participants = int(input(\"Z iloma przyjaciółmi chcesz coś zrobić? \"))\n",
    "\n",
    "# możemy tak\n",
    "# url = f\"https://www.boredapi.com/api/activity/?participants={participants+1}\"\n",
    "# response = requests.get(url)\n",
    "\n",
    "url = f\"https://www.boredapi.com/api/activity/\"\n",
    "# ale zalecane jest zrobienie tego w ten sposób (dane do przesłania umieszczamy jako drugi parametr metody get)\n",
    "response = requests.get(\n",
    "    url,\n",
    "    {\n",
    "        'participants': participants+1\n",
    "    }\n",
    ")\n",
    "data = response.json()\n",
    "\n",
    "print(data['activity'])"
   ]
  }
 ],
 "metadata": {
  "kernelspec": {
   "display_name": "Python 3 (ipykernel)",
   "language": "python",
   "name": "python3"
  },
  "language_info": {
   "codemirror_mode": {
    "name": "ipython",
    "version": 3
   },
   "file_extension": ".py",
   "mimetype": "text/x-python",
   "name": "python",
   "nbconvert_exporter": "python",
   "pygments_lexer": "ipython3",
   "version": "3.11.1"
  }
 },
 "nbformat": 4,
 "nbformat_minor": 4
}
