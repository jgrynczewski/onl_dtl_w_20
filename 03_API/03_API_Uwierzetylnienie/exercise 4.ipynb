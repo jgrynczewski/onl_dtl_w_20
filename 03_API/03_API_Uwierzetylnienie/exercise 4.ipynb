{
 "cells": [
  {
   "cell_type": "markdown",
   "metadata": {},
   "source": [
    "# Zadanie 4\n",
    "\n",
    "## Część 1\n",
    "\n",
    "Za pomocą funkcji `input` zapytaj użytkownika o to, na jaką walutę chciałby przeliczyć złotówki.\n",
    "\n",
    "Następnie zapytaj użytkownika o kwotę, jaką chciałby przeliczyć.\n",
    "\n",
    "Załóż, że użytkownik poprawnie poda walutę, np. `USD`.\n",
    "\n",
    "Za pomocą biblioteki `requests` zapytaj o aktualny kurs podanej waluty względem `PLN`. Otrzymany kurs użyj w obliczeniach, aby przeliczyć podaną kwotę na wybraną walutę, i wyświetl wynik w formie:\n",
    "\n",
    "```\n",
    "<PODANA KWOTA> PLN = <OBLICZONA KWOTA> <PODANA WALUTA>\n",
    "```\n",
    "\n",
    "Np. jeśli użytkownik poda `USD` oraz `1000`:\n",
    "\n",
    "```\n",
    "1000 PLN = 269.44 USD\n",
    "```\n",
    "\n",
    "Wynik zaokrąglij do dwóch miejsc po przecinku za pomocą funkcji `round`.\n",
    "\n",
    "## Część 2\n",
    "\n",
    "Przetestuj swój kod, podając walutę która nie istnieje.\n",
    "\n",
    "Nie modyfikuj kodu który pyta użytkownika o dane i wysyła zapytanie do serwera. **Tylko i wyłącznie na podstawie odpowiedzi serwera** zdecyduj, czy należy wyświetlić przeliczoną kwotę (jak w części 1. zadania), czy może poinformować użytkownika o tym, że wprowadził walutę, która nie istnieje. **Podpowiedź:** odpowiedzi na niepoprawne zapytania mają specjalny `status_code`.\n",
    "\n",
    "Np. jeśli użytkownik poda `LOL` oraz `1000`:\n",
    "\n",
    "```\n",
    "Nie ma takiej waluty!\n",
    "```\n"
   ]
  }
 ],
 "metadata": {
  "kernelspec": {
   "display_name": "Python 3",
   "language": "python",
   "name": "python3"
  },
  "language_info": {
   "codemirror_mode": {
    "name": "ipython",
    "version": 3
   },
   "file_extension": ".py",
   "mimetype": "text/x-python",
   "name": "python",
   "nbconvert_exporter": "python",
   "pygments_lexer": "ipython3",
   "version": "3.9.1"
  }
 },
 "nbformat": 4,
 "nbformat_minor": 4
}
