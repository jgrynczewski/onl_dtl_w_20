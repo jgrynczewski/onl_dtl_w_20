{
 "cells": [
  {
   "cell_type": "markdown",
   "metadata": {},
   "source": [
    "# Zadanie 4\n",
    "\n",
    "## Część 1\n",
    "\n",
    "Za pomocą funkcji `input` zapytaj użytkownika o to, na jaką walutę chciałby przeliczyć złotówki.\n",
    "\n",
    "Następnie zapytaj użytkownika o kwotę, jaką chciałby przeliczyć.\n",
    "\n",
    "Załóż, że użytkownik poprawnie poda walutę, np. `USD`.\n",
    "\n",
    "Za pomocą biblioteki `requests` zapytaj o aktualny kurs podanej waluty względem `PLN`. Otrzymany kurs użyj w obliczeniach, aby przeliczyć podaną kwotę na wybraną walutę, i wyświetl wynik w formie:\n",
    "\n",
    "```\n",
    "<PODANA KWOTA> PLN = <OBLICZONA KWOTA> <PODANA WALUTA>\n",
    "```\n",
    "\n",
    "Np. jeśli użytkownik poda `USD` oraz `1000`:\n",
    "\n",
    "```\n",
    "1000 PLN = 269.44 USD\n",
    "```\n",
    "\n",
    "Wynik zaokrąglij do dwóch miejsc po przecinku za pomocą funkcji `round`.\n",
    "\n",
    "## Część 2\n",
    "\n",
    "Przetestuj swój kod, podając walutę która nie istnieje.\n",
    "\n",
    "Nie modyfikuj kodu który pyta użytkownika o dane i wysyła zapytanie do serwera. **Tylko i wyłącznie na podstawie odpowiedzi serwera** zdecyduj, czy należy wyświetlić przeliczoną kwotę (jak w części 1. zadania), czy może poinformować użytkownika o tym, że wprowadził walutę, która nie istnieje. **Podpowiedź:** odpowiedzi na niepoprawne zapytania mają specjalny `status_code`.\n",
    "\n",
    "Np. jeśli użytkownik poda `LOL` oraz `1000`:\n",
    "\n",
    "```\n",
    "Nie ma takiej waluty!\n",
    "```\n"
   ]
  },
  {
   "cell_type": "code",
   "execution_count": 1,
   "metadata": {},
   "outputs": [
    {
     "name": "stdin",
     "output_type": "stream",
     "text": [
      "Podaj walutę, na którą chcesz przeliczyć złotówki:  usd\n",
      "Podaj kwotę (w złotówkach):  100\n"
     ]
    },
    {
     "name": "stdout",
     "output_type": "stream",
     "text": [
      "100 PLN = 24.81 USD\n"
     ]
    }
   ],
   "source": [
    "import requests\n",
    "\n",
    "currency = input(\"Podaj walutę, na którą chcesz przeliczyć złotówki: \").upper()\n",
    "amount = int(input(\"Podaj kwotę (w złotówkach): \"))\n",
    "\n",
    "api_key = '...'\n",
    "\n",
    "headers= {\n",
    "  \"apikey\": api_key\n",
    "}\n",
    "\n",
    "response = requests.get(\n",
    "    'https://api.apilayer.com/exchangerates_data/latest',\n",
    "    {\n",
    "        'base': \"PLN\",\n",
    "        'symbols': currency\n",
    "    },\n",
    "    headers=headers\n",
    ")\n",
    "\n",
    "if response.status_code == 400:\n",
    "    print(\"Nie ma takiej waluty!\")\n",
    "else:\n",
    "    data = response.json()\n",
    "    if data['success']:\n",
    "        res = round(amount * data['rates'][currency], 2)\n",
    "        print(f\"{amount} PLN = {res} {currency}\")\n",
    "    else:\n",
    "        print('Błąd:', data['error']['message'])"
   ]
  }
 ],
 "metadata": {
  "kernelspec": {
   "display_name": "Python 3 (ipykernel)",
   "language": "python",
   "name": "python3"
  },
  "language_info": {
   "codemirror_mode": {
    "name": "ipython",
    "version": 3
   },
   "file_extension": ".py",
   "mimetype": "text/x-python",
   "name": "python",
   "nbconvert_exporter": "python",
   "pygments_lexer": "ipython3",
   "version": "3.11.1"
  }
 },
 "nbformat": 4,
 "nbformat_minor": 4
}
