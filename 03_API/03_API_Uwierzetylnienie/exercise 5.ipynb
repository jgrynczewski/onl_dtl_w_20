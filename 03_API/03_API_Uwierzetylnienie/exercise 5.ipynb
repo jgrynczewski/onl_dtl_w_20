{
 "cells": [
  {
   "cell_type": "markdown",
   "metadata": {},
   "source": [
    "# Zadanie 5\n",
    "\n",
    "W bazie danych `classicmodels` istnieje tabela `customers`, a w niej kolumna `creditLimit` (kwota w USD). Wybierz 10 klientów z największym `creditLimit`, oraz wyświetl ich nazwy oraz `creditLimit` w walutach: USD (prosto z bazy danych) oraz EUR, JPY i GBP. Kwoty zaokrąglij do dwóch miejsc po przecinku. Aktualne kursy walut pobierz z [https://exchangeratesapi.io/](https://exchangeratesapi.io/).\n",
    "\n",
    "Przykład:\n",
    "```\n",
    "Euro+ Shopping Channel: 227600.00 USD / 187183.93EUR / 24017262.40 JPY /160578.63 GBP\n",
    "...\n",
    "```\n"
   ]
  }
 ],
 "metadata": {
  "kernelspec": {
   "display_name": "Python 3",
   "language": "python",
   "name": "python3"
  },
  "language_info": {
   "codemirror_mode": {
    "name": "ipython",
    "version": 3
   },
   "file_extension": ".py",
   "mimetype": "text/x-python",
   "name": "python",
   "nbconvert_exporter": "python",
   "pygments_lexer": "ipython3",
   "version": "3.9.1"
  }
 },
 "nbformat": 4,
 "nbformat_minor": 4
}
