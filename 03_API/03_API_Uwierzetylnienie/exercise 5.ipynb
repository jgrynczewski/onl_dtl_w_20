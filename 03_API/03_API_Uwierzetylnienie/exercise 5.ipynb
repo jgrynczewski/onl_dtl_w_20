{
 "cells": [
  {
   "cell_type": "markdown",
   "metadata": {},
   "source": [
    "# Zadanie 5\n",
    "\n",
    "W bazie danych `classicmodels` istnieje tabela `customers`, a w niej kolumna `creditLimit` (kwota w USD). Wybierz 10 klientów z największym `creditLimit`, oraz wyświetl ich nazwy oraz `creditLimit` w walutach: USD (prosto z bazy danych) oraz EUR, JPY i GBP. Kwoty zaokrąglij do dwóch miejsc po przecinku. Aktualne kursy walut pobierz z [https://exchangeratesapi.io/](https://exchangeratesapi.io/).\n",
    "\n",
    "Przykład:\n",
    "```\n",
    "Euro+ Shopping Channel: 227600.00 USD / 187183.93EUR / 24017262.40 JPY /160578.63 GBP\n",
    "...\n",
    "```\n"
   ]
  },
  {
   "cell_type": "code",
   "execution_count": 1,
   "metadata": {},
   "outputs": [],
   "source": [
    "import requests\n",
    "\n",
    "api_key = '...'\n",
    "\n",
    "headers= {\n",
    "  \"apikey\": api_key\n",
    "}\n",
    "\n",
    "response = requests.get(\n",
    "    'https://api.apilayer.com/exchangerates_data/latest',\n",
    "    {\n",
    "        'base': \"USD\",\n",
    "        'symbols': \"EUR,JPY,GBP\"\n",
    "    },\n",
    "    headers=headers\n",
    ")\n",
    "\n",
    "rates = response.json().get('rates')"
   ]
  },
  {
   "cell_type": "code",
   "execution_count": 4,
   "metadata": {},
   "outputs": [
    {
     "name": "stdout",
     "output_type": "stream",
     "text": [
      "Euro+ Shopping Channel: 227600.0 USD / 212658.06 EUR / 35982431.1 JPY / 180098.97 GBP\n",
      "Mini Gifts Distributors Ltd.: 210500.0 USD / 196680.68 EUR / 33279005.92 JPY / 166567.81 GBP\n",
      "Vida Sport, Ltd: 141300.0 USD / 132023.65 EUR / 22338829.15 JPY / 111810.12 GBP\n",
      "Muscle Machine Inc: 138500.0 USD / 129407.48 EUR / 21896163.04 JPY / 109594.5 GBP\n",
      "AV Stores, Co.: 136800.0 USD / 127819.08 EUR / 21627401.47 JPY / 108249.29 GBP\n",
      "Saveley & Henriot, Co.: 123900.0 USD / 115765.96 EUR / 19587975.46 JPY / 98041.57 GBP\n",
      "Marta's Replicas Co.: 123700.0 USD / 115579.1 EUR / 19556356.45 JPY / 97883.32 GBP\n",
      "L'ordine Souveniers: 121400.0 USD / 113430.09 EUR / 19192737.86 JPY / 96063.33 GBP\n",
      "Heintze Collectables: 120800.0 USD / 112869.48 EUR / 19097880.83 JPY / 95588.56 GBP\n",
      "Toms Spezialitäten, Ltd: 120400.0 USD / 112495.74 EUR / 19034642.82 JPY / 95272.04 GBP\n"
     ]
    }
   ],
   "source": [
    "from psycopg2 import connect\n",
    "\n",
    "with connect(\n",
    "    user='...',\n",
    "    password='...',\n",
    "    database='...'  # classicmodels\n",
    ") as cnx:\n",
    "    with cnx.cursor() as cursor:\n",
    "\n",
    "        sql = \"SELECT customername, creditlimit FROM customers ORDER BY creditlimit DESC LIMIT 10\"\n",
    "        cursor.execute(sql)\n",
    "        \n",
    "        \n",
    "        for row in cursor:\n",
    "            credit_eur = round(row[1] * rates.get('EUR'), 2)\n",
    "            credit_jpy = round(row[1] * rates.get('JPY'), 2)\n",
    "            credit_gbp = round(row[1] * rates.get('GBP'), 2)\n",
    "        \n",
    "            print(f\"{row[0]}: {round(row[1], 2)} USD / {credit_eur} EUR / {credit_jpy} JPY / {credit_gbp} GBP\")\n"
   ]
  }
 ],
 "metadata": {
  "kernelspec": {
   "display_name": "Python 3 (ipykernel)",
   "language": "python",
   "name": "python3"
  },
  "language_info": {
   "codemirror_mode": {
    "name": "ipython",
    "version": 3
   },
   "file_extension": ".py",
   "mimetype": "text/x-python",
   "name": "python",
   "nbconvert_exporter": "python",
   "pygments_lexer": "ipython3",
   "version": "3.11.1"
  }
 },
 "nbformat": 4,
 "nbformat_minor": 4
}
