{
 "cells": [
  {
   "cell_type": "markdown",
   "metadata": {},
   "source": [
    "# Zadanie 3\n",
    "\n",
    "Za pomocą biblioteki `requests` pobierz z [https://exchangeratesapi.io/](https://exchangeratesapi.io/) aktualne kursy walut, oraz wyświetl je w formie listy:\n",
    "\n",
    "```\n",
    "- <KURS 1> EUR/<WALUTA 1>\n",
    "- <KURS 2> EUR/<WALUTA 2>\n",
    "...\n",
    "```\n",
    "\n",
    "Wynik powinien przypominać:\n",
    "```\n",
    "- 4.5066 EUR/PLN\n",
    "- 1.5319 EUR/CAD\n",
    "- 0.86308 EUR/GBP\n",
    "...\n",
    "```\n"
   ]
  }
 ],
 "metadata": {
  "kernelspec": {
   "display_name": "Python 3",
   "language": "python",
   "name": "python3"
  },
  "language_info": {
   "codemirror_mode": {
    "name": "ipython",
    "version": 3
   },
   "file_extension": ".py",
   "mimetype": "text/x-python",
   "name": "python",
   "nbconvert_exporter": "python",
   "pygments_lexer": "ipython3",
   "version": "3.9.1"
  }
 },
 "nbformat": 4,
 "nbformat_minor": 4
}
