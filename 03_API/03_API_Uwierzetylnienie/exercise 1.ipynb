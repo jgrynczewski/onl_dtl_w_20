{
 "cells": [
  {
   "cell_type": "markdown",
   "metadata": {},
   "source": [
    "# Zadanie 1\n",
    "\n",
    "Zapoznaj się z [dokumentacją endpointu /weather](https://openweathermap.org/current#name).\n",
    "\n",
    "Napisz funkcję `get_weather`, która przyjmie trzy argumenty:\n",
    "- `city` - nazwa miasta, **wymagany**,\n",
    "- `state` - nazwa stanu/województwa, opcjonalny,\n",
    "- `country` - nazwa kraju, opcjonalny.\n",
    "\n",
    "W funkcji użyj API [https://openweathermap.org](openweathermap.org) aby sprawdzić aktualną pogodę. W zapytaniu użyj wszystkich dostępnych informacji (`city`, `state`, `country`), ale tak, aby funkcja wciąż działała gdy zostanie podane tylko `city` albo `city` i `country`.\n",
    "\n",
    "Funkcja powinna zwrócić krótką nazwę pogody: `\"Clouds\"`, `\"Rain\"`, `\"Clear\"` - odczytaj ją z JSONa zwracanego przez serwer.\n",
    "\n",
    "Pamiętaj o przekazaniu `appid`.\n"
   ]
  },
  {
   "cell_type": "code",
   "execution_count": null,
   "metadata": {},
   "outputs": [],
   "source": [
    "# tu napisz funkcję \"get_weather\"\n",
    "\n"
   ]
  },
  {
   "cell_type": "code",
   "execution_count": null,
   "metadata": {},
   "outputs": [],
   "source": [
    "print('Pogoda dla Warszawy:', get_weather('Warszawa', 'Mazowieckie', 'Polska'))\n",
    "print('Warszawa jeszcze raz:', get_weather('Warszawa'))"
   ]
  }
 ],
 "metadata": {
  "kernelspec": {
   "display_name": "Python 3",
   "language": "python",
   "name": "python3"
  },
  "language_info": {
   "codemirror_mode": {
    "name": "ipython",
    "version": 3
   },
   "file_extension": ".py",
   "mimetype": "text/x-python",
   "name": "python",
   "nbconvert_exporter": "python",
   "pygments_lexer": "ipython3",
   "version": "3.9.1"
  }
 },
 "nbformat": 4,
 "nbformat_minor": 4
}
