{
 "cells": [
  {
   "cell_type": "markdown",
   "metadata": {},
   "source": [
    "# Zadanie 2\n",
    "\n",
    "Z bazy `classicmodels` wybierz wszystkich klientów. Odczytaj ich po kolei w pętli, i z pomocą API [openweathermap.org](https://openweathermap.org/) sprawdź, jaka jest u nich pogoda:\n",
    "- jeśli jest deszczowa (`\"Rain\"` w odpowiednim miejscu w odpowiedzi z API), wyświetl nazwę, imię i nazwisko osoby kontaktowej oraz numer telefonu\n",
    "- w pozostałych wypadkach wyświetl tylko nazwę klienta\n",
    "\n",
    "Użyj tego samego klucza API co we wprowadzeniu do drugiego zjazdu.\n",
    "\n",
    "[Dokumentacja potrzebnego endpointu](https://openweathermap.org/current)\n"
   ]
  }
 ],
 "metadata": {
  "kernelspec": {
   "display_name": "Python 3",
   "language": "python",
   "name": "python3"
  },
  "language_info": {
   "codemirror_mode": {
    "name": "ipython",
    "version": 3
   },
   "file_extension": ".py",
   "mimetype": "text/x-python",
   "name": "python",
   "nbconvert_exporter": "python",
   "pygments_lexer": "ipython3",
   "version": "3.9.1"
  }
 },
 "nbformat": 4,
 "nbformat_minor": 4
}
