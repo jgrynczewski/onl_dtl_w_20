{
 "cells": [
  {
   "cell_type": "markdown",
   "metadata": {},
   "source": [
    "# Zadanie 2\n",
    "\n",
    "Otwórz plik `todo.json` i zapoznaj się z jego kształtem i treścią. Następnie w trzech osobnych komórkach Jupytera napisz:\n",
    "\n",
    "**1.** Kod, który wyświetli treść pliku za pomocą funkcji `print`, w formie:\n",
    "```\n",
    "<IMIĘ PODANE PRZEZ UŻYTKOWNIKA>, twoje bojowe zadanie na dziś to <ZADANIE #1>\n",
    "<IMIĘ PODANE PRZEZ UŻYTKOWNIKA>, twoje bojowe zadanie na dziś to <ZADANIE #2>\n",
    "...\n",
    "```\n",
    "\n",
    "Dla podanego przykładu będzie to:\n",
    "```\n",
    "Jan, twoje bojowe zadanie na dziś to kupić chleb\n",
    "Jan, twoje bojowe zadanie na dziś to kupić masło\n",
    "```\n",
    "\n",
    "**2.** Kod, który zapyta użytkownika o imię (za pomocą funkcji `input`), a następnie utworzy plik `todo.json` o treści:\n",
    "```json\n",
    "{\n",
    "  \"owner\": \"<IMIĘ PODANE PRZEZ UŻYTKOWNIKA>\",\n",
    "  \"tasks\": []\n",
    "}\n",
    "```\n",
    "Jeśli plik już istnieje, powinien zostać nadpisany.\n",
    "\n",
    "**3.** Kod, który zapyta o treść nowego zadania (ponownie funkcja `input`), wczyta obecną zawartość pliku, a następnie dopisze je jako string do listy `\"tasks\"` w pliku. Uruchamiając tą komórkę Jupytera kilka razy zapiszesz kilka zadań na liście:\n",
    "```json\n",
    "{\n",
    "  \"owner\": \"Jan\",\n",
    "  \"tasks\": [\"kupić chleb\", \"kupić masło\", \"kupić mleko\", \"dolać oleju do Hondy\"]\n",
    "}\n",
    "```\n",
    "\n",
    "Jeśli plik już istnieje, powinien zostać nadpisany.\n",
    "\n",
    "**Komórki Jupytera możesz uruchamiać w dowolnej kolejności**\n"
   ]
  },
  {
   "cell_type": "code",
   "execution_count": 4,
   "metadata": {},
   "outputs": [
    {
     "name": "stdout",
     "output_type": "stream",
     "text": [
      "Jan, twoje bojowe zadanie na dziś to kupić chleb\n",
      "Jan, twoje bojowe zadanie na dziś to kupić masło\n"
     ]
    }
   ],
   "source": [
    "# Tu przeczytaj plik i wyświetl jego treść\n",
    "import json\n",
    "\n",
    "with open('todo.json', encoding='utf-8') as f:\n",
    "    content: str = f.read()\n",
    "\n",
    "\n",
    "data: dict = json.loads(content)\n",
    "\n",
    "username = data['owner']\n",
    "tasks = data['tasks']\n",
    "\n",
    "for task in tasks:\n",
    "    print(f\"{username}, twoje bojowe zadanie na dziś to {task}\")"
   ]
  },
  {
   "cell_type": "code",
   "execution_count": 5,
   "metadata": {
    "scrolled": true
   },
   "outputs": [
    {
     "name": "stdin",
     "output_type": "stream",
     "text": [
      "Podaj imię: ala\n"
     ]
    }
   ],
   "source": [
    "import json\n",
    "# Tu zapytaj o imię i utwórz plik `todo.json` o odpowiedniej treści\n",
    "\n",
    "# CLI - Command Line Interface\n",
    "username = input(\"Podaj imię:\")\n",
    "\n",
    "# tak można, ale tak nie robimy\n",
    "# text = f\"\"\"{{\n",
    "#   \"owner\": \"{username}\",\n",
    "#   \"tasks\": []\n",
    "# }}\"\"\"\n",
    "\n",
    "\n",
    "data: dict = {\n",
    "    \"owner\": username,\n",
    "    \"tasks\": []\n",
    "}\n",
    "\n",
    "# serializacja do formatu JSON (otrzymujemy pythonowy string)\n",
    "text: str = json.dumps(data)  # + opcjonalny parametr indent\n",
    "\n",
    "# zapis do pliku \n",
    "with open('todo.json', 'w') as f:\n",
    "    f.write(text)"
   ]
  },
  {
   "cell_type": "code",
   "execution_count": 6,
   "metadata": {},
   "outputs": [
    {
     "name": "stdin",
     "output_type": "stream",
     "text": [
      "Podaj zadanie do wykonania:  spanie\n"
     ]
    }
   ],
   "source": [
    "import json\n",
    "\n",
    "# Tu zapytaj o treść nowego zadania i dodaj je do listy w pliku\n",
    "new_task = input(\"Podaj zadanie do wykonania: \")\n",
    "\n",
    "# wczytanie zawartości pliku\n",
    "with open(\"todo.json\", encoding='utf-8') as f:\n",
    "    content = f.read()\n",
    "\n",
    "# deserializacja z formatu json\n",
    "data = json.loads(content)\n",
    "\n",
    "# modyfikacja danych\n",
    "tasks = data['tasks']\n",
    "tasks.append(new_task)\n",
    "\n",
    "# serializacja do formatu json\n",
    "new_content = json.dumps(data)\n",
    "\n",
    "# zapis do pliku\n",
    "with open(\"todo.json\", \"w\") as f:\n",
    "    f.write(new_content)"
   ]
  }
 ],
 "metadata": {
  "kernelspec": {
   "display_name": "Python 3 (ipykernel)",
   "language": "python",
   "name": "python3"
  },
  "language_info": {
   "codemirror_mode": {
    "name": "ipython",
    "version": 3
   },
   "file_extension": ".py",
   "mimetype": "text/x-python",
   "name": "python",
   "nbconvert_exporter": "python",
   "pygments_lexer": "ipython3",
   "version": "3.11.1"
  }
 },
 "nbformat": 4,
 "nbformat_minor": 4
}
