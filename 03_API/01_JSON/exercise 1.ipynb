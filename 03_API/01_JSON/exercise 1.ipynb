{
 "cells": [
  {
   "cell_type": "markdown",
   "metadata": {},
   "source": [
    "# Zadanie 1\n",
    "\n",
    "Obejrzyj zawartość pliku `clients.json`. Twoim zadaniem jest wyświetlenie kilku list:\n",
    "\n",
    "1. Lista imion i nazwisk kobiet\n",
    "2. Lista imion i nazwisk mężczyzn\n",
    "3. Lista aktywnych klientów\n",
    "4. Lista klientów z tagiem `adipisicing`\n",
    "5. Lista klientów o zielonych oczach\n",
    "6. Lista klientów z polskim numerem telefonu\n",
    "\n",
    "## Podpowiedź:\n",
    "\n",
    "**Ad 1.** \n",
    "Najpierw stwórz zmienną, w której będziesz trzymać imiona kobiet. Na początku lista ta powinna być pusta.\n",
    "\n",
    "Następnie wczytaj plik `clients.json` i zamień go na zdeserializuj go do postaci słownika. Zauważ, że słownik ten trzyma w sobie tylko jeden element - listę słowników reprezentujących osoby. Lista ta znajduje się pod kluczem `clients`.\n",
    "\n",
    "Kiedy masz już listę klientów - przeiteruj po niej za pomocą pętli `for`. W środku pętli sprawdź za pomocą `if` czy dana osoba jest mężczyzną, czy kobietą (informacja ta kryje się pod kluczem `gender`). Jeżeli tak to dodaj jej imię do listy (informacja ta kryje się pod kluczem `name`).\n",
    "\n",
    "Kolejne podpunkty będą analogiczne do pierwszego.\n",
    "\n",
    "**Ad 4.**\n",
    "Użyj słowa kluczowego `in` do sprawdzenia, czy element znajduje się w liście.\n",
    "\n",
    "**Ad 6.**\n",
    "Możesz użyć wyrażenia regularnego do sprawdzenia numeru. Przykładowe wyrażenie regularne, któ©e powinno sprawdzić, czy dany numer jest telefonem polskim, wygląda następująco: `\\+48[0-9 ]{9,12}`. Wyrażenie to:\n",
    "1. Sprawdza, czy numer zaczyna się od +48 (pamiętaj, że znak `+` oznacza \"jedno lub więcej powtórzenie\", jeżeli chcesz szukać dosłownie znaku dodaj to musisz użyć `\\+`),\n",
    "2. Następnie sprawdza, czy po kierunkowym do Polski występuje od 9 do 12 znaków z podanego przez nas zakresu: spacji i cyfr od 0 do 9. Różna liczba znaków (od 9 do 12) wynika z faktu różnorodnego zapisu numeru: czasem ze spacjami, czasem bez."
   ]
  },
  {
   "cell_type": "code",
   "execution_count": null,
   "metadata": {},
   "outputs": [],
   "source": [
    "print(\"Lista imion i nazwisk kobiet:\")\n",
    "\n",
    "# Tu napisz rozwiązanie\n",
    "\n",
    "# oczekiwany wynik: Alexandra Garrison, Jane Nash, Edwina Whitley"
   ]
  },
  {
   "cell_type": "code",
   "execution_count": null,
   "metadata": {},
   "outputs": [],
   "source": [
    "print(\"Lista imion i nazwisk mężczyzn:\")\n",
    "\n",
    "# Tu napisz rozwiązanie\n",
    "\n",
    "# oczekiwany wynik: Bennett Walter, Burris Rodriquez"
   ]
  },
  {
   "cell_type": "code",
   "execution_count": null,
   "metadata": {},
   "outputs": [],
   "source": [
    "print(\"Lista aktywnych klientów:\")\n",
    "\n",
    "# Tu napisz rozwiązanie\n",
    "\n",
    "# oczekiwany wynik: Burris Rodriquez"
   ]
  },
  {
   "cell_type": "code",
   "execution_count": null,
   "metadata": {},
   "outputs": [],
   "source": [
    "print(\"Lista klientów z tagiem `adipisicing`:\")\n",
    "\n",
    "# Tu napisz rozwiązanie\n",
    "\n",
    "# oczekiwany wynik: Bennett Walter, Alexandra Garrison, Burris Rodriquez"
   ]
  },
  {
   "cell_type": "code",
   "execution_count": null,
   "metadata": {},
   "outputs": [],
   "source": [
    "print(\"Lista klientów o zielonych oczach:\")\n",
    "\n",
    "# Tu napisz rozwiązanie\n",
    "\n",
    "# oczekiwany wynik: Alexandra Garrison, Jane Nash, Burris Rodriquez"
   ]
  },
  {
   "cell_type": "code",
   "execution_count": null,
   "metadata": {},
   "outputs": [],
   "source": [
    "print(\"Lista klientów z polskim numerem telefonu:\")\n",
    "\n",
    "# Tu napisz rozwiązanie\n",
    "\n",
    "# oczekiwany wynik: Bennett Walter"
   ]
  }
 ],
 "metadata": {
  "kernelspec": {
   "display_name": "Python 3",
   "language": "python",
   "name": "python3"
  },
  "language_info": {
   "codemirror_mode": {
    "name": "ipython",
    "version": 3
   },
   "file_extension": ".py",
   "mimetype": "text/x-python",
   "name": "python",
   "nbconvert_exporter": "python",
   "pygments_lexer": "ipython3",
   "version": "3.9.1"
  }
 },
 "nbformat": 4,
 "nbformat_minor": 4
}
